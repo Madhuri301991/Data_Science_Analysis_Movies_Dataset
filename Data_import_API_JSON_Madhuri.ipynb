{
 "cells": [
  {
   "cell_type": "markdown",
   "id": "d43b098e",
   "metadata": {},
   "source": [
    "# Data Import - Working with Web APIs and JSON (Movies Dataset)"
   ]
  },
  {
   "cell_type": "markdown",
   "id": "458ee612",
   "metadata": {},
   "source": [
    "## Importing Data from JSON files "
   ]
  },
  {
   "cell_type": "markdown",
   "id": "bf6b911f",
   "metadata": {},
   "source": [
    "1. __Import__ the json files __blockbusters.json__, __blockbusters2.json__, __blockbusters3.json__ and load the datasets into Pandas DataFrames.\n"
   ]
  },
  {
   "cell_type": "code",
   "execution_count": null,
   "id": "d2e47aec",
   "metadata": {},
   "outputs": [],
   "source": [
    "#JSON - Standard format to transfer data (through Web APIs)\n",
    "#JSON - not necessarily tabular data\n",
    "#often complex/nested data structures\n"
   ]
  },
  {
   "cell_type": "code",
   "execution_count": null,
   "id": "80f3e303",
   "metadata": {},
   "outputs": [],
   "source": [
    "import pandas as pd\n",
    "import json\n",
    "import requests\n",
    "pd.options.display.max_columns=30"
   ]
  },
  {
   "cell_type": "code",
   "execution_count": null,
   "id": "000ca6b4",
   "metadata": {},
   "outputs": [],
   "source": [
    "with open(\"blockbusters.json\") as f:\n",
    "    data=json.load(f)"
   ]
  },
  {
   "cell_type": "code",
   "execution_count": null,
   "id": "37c0ad9d",
   "metadata": {},
   "outputs": [],
   "source": [
    "data"
   ]
  },
  {
   "cell_type": "code",
   "execution_count": null,
   "id": "75b5758c",
   "metadata": {},
   "outputs": [],
   "source": [
    "type(data)"
   ]
  },
  {
   "cell_type": "code",
   "execution_count": null,
   "id": "0386456a",
   "metadata": {},
   "outputs": [],
   "source": [
    "len(data)"
   ]
  },
  {
   "cell_type": "code",
   "execution_count": null,
   "id": "99373a29",
   "metadata": {},
   "outputs": [],
   "source": [
    "data[0]"
   ]
  },
  {
   "cell_type": "code",
   "execution_count": null,
   "id": "4e13ce07",
   "metadata": {},
   "outputs": [],
   "source": [
    "df=pd.DataFrame(data) #converts a dictionary into pandas data frame\n",
    "df"
   ]
  },
  {
   "cell_type": "code",
   "execution_count": null,
   "id": "c40d3dde",
   "metadata": {},
   "outputs": [],
   "source": [
    "#directly load JSON files into pandas\n",
    "df=pd.read_json(\"blockbusters.json\")\n",
    "df"
   ]
  },
  {
   "cell_type": "code",
   "execution_count": null,
   "id": "6bb16310",
   "metadata": {},
   "outputs": [],
   "source": [
    "df.info()"
   ]
  },
  {
   "cell_type": "code",
   "execution_count": null,
   "id": "9957d7d7",
   "metadata": {},
   "outputs": [],
   "source": [
    "df[\"genres\"]"
   ]
  },
  {
   "cell_type": "code",
   "execution_count": null,
   "id": "a0ca7325",
   "metadata": {},
   "outputs": [],
   "source": [
    "df[\"genres\"][0]"
   ]
  },
  {
   "cell_type": "code",
   "execution_count": null,
   "id": "924f66ed",
   "metadata": {},
   "outputs": [],
   "source": [
    "df[\"belongs_to_collection\"]"
   ]
  },
  {
   "cell_type": "code",
   "execution_count": null,
   "id": "2e0511e0",
   "metadata": {},
   "outputs": [],
   "source": [
    "df[\"belongs_to_collection\"][0]"
   ]
  },
  {
   "cell_type": "code",
   "execution_count": null,
   "id": "b1fb2522",
   "metadata": {},
   "outputs": [],
   "source": [
    "#normalizes or flatten JSON file into a flat table -- when loading into pandas \n",
    "pd.json_normalize(data=data,sep=\"_\")\n",
    "#belongs_to_collection column is flatten into four columns"
   ]
  },
  {
   "cell_type": "code",
   "execution_count": null,
   "id": "70360e89",
   "metadata": {},
   "outputs": [],
   "source": [
    "pd.json_normalize(data=data,sep=\"_\").genres[0] #genres column have not changed "
   ]
  },
  {
   "cell_type": "code",
   "execution_count": null,
   "id": "50c03d8b",
   "metadata": {},
   "outputs": [],
   "source": [
    "pd.json_normalize(data=data,record_path=\"genres\") #to normalize genres column"
   ]
  },
  {
   "cell_type": "code",
   "execution_count": null,
   "id": "66f951c4",
   "metadata": {},
   "outputs": [],
   "source": [
    "pd.json_normalize(data=data,record_path=\"genres\",meta=\"title\")"
   ]
  },
  {
   "cell_type": "code",
   "execution_count": null,
   "id": "a82b39ca",
   "metadata": {},
   "outputs": [],
   "source": [
    "pd.json_normalize(data=data,record_path=\"genres\",meta=[\"title\",\"id\"],record_prefix=\"genre_\")\n",
    "#this will distinguish id from the original table and id from genres column"
   ]
  },
  {
   "cell_type": "code",
   "execution_count": null,
   "id": "b8335d9b",
   "metadata": {},
   "outputs": [],
   "source": [
    "#three orientation in JSON file --> record, column, split\n",
    "#blockbusters.json --> has a list, each and every list is one row -- record orientation\n",
    "#blockbusters2.json --> has columns orientation\n",
    "#blockbusters3.json --> has split orientation. first, we have column level, row level then data level\n",
    "# record orientation is best for loading into pandas"
   ]
  },
  {
   "cell_type": "markdown",
   "id": "97b42f85",
   "metadata": {},
   "source": [
    "## Importing blockbusters2.json"
   ]
  },
  {
   "cell_type": "code",
   "execution_count": null,
   "id": "f8a27627",
   "metadata": {},
   "outputs": [],
   "source": [
    "with open(\"blockbusters2.json\") as f:\n",
    "    data2=json.load(f)"
   ]
  },
  {
   "cell_type": "code",
   "execution_count": null,
   "id": "136e144b",
   "metadata": {},
   "outputs": [],
   "source": [
    "data2"
   ]
  },
  {
   "cell_type": "code",
   "execution_count": null,
   "id": "23f5a5f8",
   "metadata": {},
   "outputs": [],
   "source": [
    "type(data2)"
   ]
  },
  {
   "cell_type": "code",
   "execution_count": null,
   "id": "c294dd96",
   "metadata": {},
   "outputs": [],
   "source": [
    "list(data2)"
   ]
  },
  {
   "cell_type": "code",
   "execution_count": null,
   "id": "7b8b1715",
   "metadata": {},
   "outputs": [],
   "source": [
    "len(data2)"
   ]
  },
  {
   "cell_type": "code",
   "execution_count": null,
   "id": "b74d11cf",
   "metadata": {},
   "outputs": [],
   "source": [
    "df2=pd.DataFrame(data2)\n",
    "df2"
   ]
  },
  {
   "cell_type": "code",
   "execution_count": null,
   "id": "92b1aaf7",
   "metadata": {},
   "outputs": [],
   "source": [
    "df2=pd.read_json(\"blockbusters2.json\")\n",
    "df2"
   ]
  },
  {
   "cell_type": "code",
   "execution_count": null,
   "id": "4e87345f",
   "metadata": {},
   "outputs": [],
   "source": [
    "df2.info()"
   ]
  },
  {
   "cell_type": "code",
   "execution_count": null,
   "id": "e1987099",
   "metadata": {},
   "outputs": [],
   "source": [
    "df2[\"genres\"]"
   ]
  },
  {
   "cell_type": "code",
   "execution_count": null,
   "id": "fcac5255",
   "metadata": {},
   "outputs": [],
   "source": [
    "df2[\"belongs_to_collection\"]"
   ]
  },
  {
   "cell_type": "code",
   "execution_count": null,
   "id": "f73827c7",
   "metadata": {},
   "outputs": [],
   "source": [
    "#columns orientation cannot work with pd.json_normalization"
   ]
  },
  {
   "cell_type": "markdown",
   "id": "5c168d51",
   "metadata": {},
   "source": [
    "## Importing blockbusters3.json"
   ]
  },
  {
   "cell_type": "code",
   "execution_count": null,
   "id": "2f72a3aa",
   "metadata": {},
   "outputs": [],
   "source": [
    "with open(\"blockbusters3.json\") as f:\n",
    "    data3=json.load(f)"
   ]
  },
  {
   "cell_type": "code",
   "execution_count": null,
   "id": "1e55754e",
   "metadata": {},
   "outputs": [],
   "source": [
    "data3"
   ]
  },
  {
   "cell_type": "code",
   "execution_count": null,
   "id": "f1ef6cc2",
   "metadata": {},
   "outputs": [],
   "source": [
    "type(data3)"
   ]
  },
  {
   "cell_type": "code",
   "execution_count": null,
   "id": "d8e51e08",
   "metadata": {},
   "outputs": [],
   "source": [
    "len(data3)"
   ]
  },
  {
   "cell_type": "code",
   "execution_count": null,
   "id": "1acf15c2",
   "metadata": {},
   "outputs": [],
   "source": [
    "#df3=pd.DataFrame(data3)\n",
    "#it wont work because it is split oriented dataset\n",
    "df3=pd.read_json(\"blockbusters3.json\",orient=\"split\")\n",
    "df3\n",
    "#in this case , pd.json_normalize wont work "
   ]
  },
  {
   "cell_type": "code",
   "execution_count": null,
   "id": "695852fe",
   "metadata": {},
   "outputs": [],
   "source": [
    "df3.info()"
   ]
  },
  {
   "cell_type": "markdown",
   "id": "5254459d",
   "metadata": {},
   "source": [
    "## Working with APIs and JSON (Part 1)"
   ]
  },
  {
   "cell_type": "markdown",
   "id": "98d2d942",
   "metadata": {},
   "source": [
    "2. __Create an account__ on https://www.themoviedb.org/"
   ]
  },
  {
   "cell_type": "markdown",
   "id": "14e02e68",
   "metadata": {},
   "source": [
    "3. Get your personal __API Key__"
   ]
  },
  {
   "cell_type": "markdown",
   "id": "aa99af49",
   "metadata": {},
   "source": [
    "4. __API-Request__ (movie module): Load all available information for the movie with __movie id = 140607__ into a Pandas DataFrame. <br> See https://developers.themoviedb.org/3/movies/get-movie-details for more information"
   ]
  },
  {
   "cell_type": "code",
   "execution_count": null,
   "id": "d0cf1b3a",
   "metadata": {},
   "outputs": [],
   "source": [
    "api_key=\"                      \"\n",
    "#api_key=\"api_key=insert api_key here\""
   ]
  },
  {
   "cell_type": "code",
   "execution_count": null,
   "id": "bc257afe",
   "metadata": {},
   "outputs": [],
   "source": [
    "movie_id=140607"
   ]
  },
  {
   "cell_type": "code",
   "execution_count": null,
   "id": "97be6e52",
   "metadata": {},
   "outputs": [],
   "source": [
    "movie_api=\"https://api.themoviedb.org/3/movie/{}?\"\n",
    "movie_api"
   ]
  },
  {
   "cell_type": "code",
   "execution_count": null,
   "id": "045d027f",
   "metadata": {},
   "outputs": [],
   "source": [
    "url=movie_api.format(movie_id)+api_key\n",
    "url"
   ]
  },
  {
   "cell_type": "code",
   "execution_count": null,
   "id": "6e9e2e19",
   "metadata": {},
   "outputs": [],
   "source": [
    "r=requests.get(url) #response 200 means data is received -- everything is OK\n",
    "r"
   ]
  },
  {
   "cell_type": "code",
   "execution_count": null,
   "id": "560d3ab7",
   "metadata": {},
   "outputs": [],
   "source": [
    "data4=r.json()  #returns the json encoded content of a response\n",
    "data4"
   ]
  },
  {
   "cell_type": "code",
   "execution_count": null,
   "id": "9bd3b8da",
   "metadata": {},
   "outputs": [],
   "source": [
    "type(data4)"
   ]
  },
  {
   "cell_type": "code",
   "execution_count": null,
   "id": "330123b2",
   "metadata": {},
   "outputs": [],
   "source": [
    "pd.Series(data4)"
   ]
  },
  {
   "cell_type": "code",
   "execution_count": null,
   "id": "955d2043",
   "metadata": {},
   "outputs": [],
   "source": [
    "df4=pd.Series(data4).to_frame().T\n",
    "df4   #T stands for transpose dataframe"
   ]
  },
  {
   "cell_type": "code",
   "execution_count": null,
   "id": "fdeda656",
   "metadata": {},
   "outputs": [],
   "source": [
    "pd.json_normalize(data4,sep=\"_\") #flatten/normalize some columns"
   ]
  },
  {
   "cell_type": "code",
   "execution_count": null,
   "id": "c937997e",
   "metadata": {},
   "outputs": [],
   "source": [
    "pd.json_normalize(data=data4,record_path=\"genres\",meta=\"title\")"
   ]
  },
  {
   "cell_type": "code",
   "execution_count": null,
   "id": "206c1931",
   "metadata": {},
   "outputs": [],
   "source": [
    "pd.json_normalize(data=data4,record_path=\"production_companies\",meta=\"title\")"
   ]
  },
  {
   "cell_type": "markdown",
   "id": "7907a2b8",
   "metadata": {},
   "source": [
    "API-Request (discover module): Load all movies with release date between 2020-01-01 and 2020-02-29 into a Pandas DataFrame.\n",
    "See https://www.themoviedb.org/documentation/api/discover and https://developers.themoviedb.org/3/discover/movie-discover for more information."
   ]
  },
  {
   "cell_type": "code",
   "execution_count": null,
   "id": "bde6b52a",
   "metadata": {},
   "outputs": [],
   "source": [
    "discover_api=\"https://api.themoviedb.org/3/discover/movie?\""
   ]
  },
  {
   "cell_type": "code",
   "execution_count": null,
   "id": "50ac4c64",
   "metadata": {},
   "outputs": [],
   "source": [
    "query=\"&primary_release_date.gte=2020-01-01&primary_release_date.lte=2020-02-29\""
   ]
  },
  {
   "cell_type": "code",
   "execution_count": null,
   "id": "3faf93e1",
   "metadata": {},
   "outputs": [],
   "source": [
    "url=discover_api+api_key+query\n",
    "url"
   ]
  },
  {
   "cell_type": "code",
   "execution_count": null,
   "id": "4c64873d",
   "metadata": {},
   "outputs": [],
   "source": [
    "data5=requests.get(url)\n",
    "data5"
   ]
  },
  {
   "cell_type": "code",
   "execution_count": null,
   "id": "9a75882f",
   "metadata": {},
   "outputs": [],
   "source": [
    "data5=requests.get(url).json()"
   ]
  },
  {
   "cell_type": "code",
   "execution_count": null,
   "id": "a6935fe2",
   "metadata": {},
   "outputs": [],
   "source": [
    "data5"
   ]
  },
  {
   "cell_type": "code",
   "execution_count": null,
   "id": "429daede",
   "metadata": {},
   "outputs": [],
   "source": [
    "pd.DataFrame(data5)"
   ]
  },
  {
   "cell_type": "code",
   "execution_count": null,
   "id": "b2bf9105",
   "metadata": {},
   "outputs": [],
   "source": [
    "pd.DataFrame(data5[\"results\"])"
   ]
  },
  {
   "cell_type": "code",
   "execution_count": null,
   "id": "3fb3cfd6",
   "metadata": {},
   "outputs": [],
   "source": [
    "##second part"
   ]
  },
  {
   "cell_type": "code",
   "execution_count": null,
   "id": "13b5c86d",
   "metadata": {},
   "outputs": [],
   "source": [
    "query=\"&primary_release_date.gte=2020-01-01&primary_release_date.lte=2020-02-29&page=2\""
   ]
  },
  {
   "cell_type": "code",
   "execution_count": null,
   "id": "9769a28a",
   "metadata": {},
   "outputs": [],
   "source": [
    "url=discover_api+api_key+query"
   ]
  },
  {
   "cell_type": "code",
   "execution_count": null,
   "id": "30c67abb",
   "metadata": {},
   "outputs": [],
   "source": [
    "data6=requests.get(url).json()"
   ]
  },
  {
   "cell_type": "code",
   "execution_count": null,
   "id": "b7813fef",
   "metadata": {},
   "outputs": [],
   "source": [
    "data6"
   ]
  },
  {
   "cell_type": "code",
   "execution_count": null,
   "id": "0469ae7b",
   "metadata": {},
   "outputs": [],
   "source": [
    "pd.DataFrame(data6)"
   ]
  },
  {
   "cell_type": "code",
   "execution_count": null,
   "id": "8895ad57",
   "metadata": {},
   "outputs": [],
   "source": [
    "pd.DataFrame(data6[\"results\"])"
   ]
  },
  {
   "cell_type": "markdown",
   "id": "7cbae2c3",
   "metadata": {},
   "source": [
    "## Importing and storing the movies database"
   ]
  },
  {
   "cell_type": "markdown",
   "id": "a8619767",
   "metadata": {},
   "source": [
    "6. __API-Request__ (movie module): Load all available information for the movies with movie id = [__299534, 19995, 140607, 299536, 597, 135397, 420818, 24428, 168259, 99861, 284054, 12445, 181808, 330457, 351286, 109445, 321612, 260513__] into a Pandas DataFrame and __save the dataset in a local json file__."
   ]
  },
  {
   "cell_type": "code",
   "execution_count": null,
   "id": "706027af",
   "metadata": {},
   "outputs": [],
   "source": [
    "movie_id=[0,299534, 19995, 140607, 299536, 597, 135397, 420818, 24428, 168259, 99861, 284054, 12445, 181808, 330457, 351286, 109445, 321612, 260513]\n",
    "# 18 valid id and one invalid id 0 (that doesnt exist)"
   ]
  },
  {
   "cell_type": "code",
   "execution_count": null,
   "id": "a940d040",
   "metadata": {},
   "outputs": [],
   "source": [
    "basic_url=\"https://api.themoviedb.org/3/movie/{}?{}\"\n",
    "#two place holder for movie id and api key"
   ]
  },
  {
   "cell_type": "code",
   "execution_count": null,
   "id": "b08f548a",
   "metadata": {},
   "outputs": [],
   "source": [
    "#for every movie in movie_id, get the json data and store it in json_list\n",
    "#for every movie, replace the placeholder, by the respective movie_id and the api key\n",
    "# r is the response object\n",
    "# 200 is desired code means data is available\n",
    "#if the movie_id exists, we get the data for that movie_id in the json format\n",
    "#finally convert the complete json_list into a data frame\n",
    "json_list=[]\n",
    "for movie in movie_id:\n",
    "    url=basic_url.format(movie,api_key)\n",
    "    r=requests.get(url)\n",
    "    if r.status_code!=200:\n",
    "        continue\n",
    "    else:\n",
    "        data=r.json()\n",
    "        json_list.append(data)\n",
    "df_movies=pd.DataFrame(json_list)"
   ]
  },
  {
   "cell_type": "code",
   "execution_count": null,
   "id": "cf38760b",
   "metadata": {},
   "outputs": [],
   "source": [
    "requests.get(basic_url.format(0,api_key)).status_code #get the status_code"
   ]
  },
  {
   "cell_type": "code",
   "execution_count": null,
   "id": "e2dc5b06",
   "metadata": {},
   "outputs": [],
   "source": [
    "df_movies"
   ]
  },
  {
   "cell_type": "code",
   "execution_count": null,
   "id": "1c4b4588",
   "metadata": {},
   "outputs": [],
   "source": [
    "df_movies=df_movies.loc[:,[\"title\",\"id\",\"revenue\",\"genres\",\"belongs_to_collection\",\"runtime\"]].sort_values(by=\"revenue\",ascending=False)\n",
    "#sort revenues by high to low"
   ]
  },
  {
   "cell_type": "code",
   "execution_count": null,
   "id": "f411d5ae",
   "metadata": {},
   "outputs": [],
   "source": [
    "df_movies"
   ]
  },
  {
   "cell_type": "code",
   "execution_count": null,
   "id": "0a82e415",
   "metadata": {},
   "outputs": [],
   "source": [
    "#how to save and store the dataset \n",
    "df_movies.to_json(\"movies.json\",orient=\"records\")"
   ]
  },
  {
   "cell_type": "code",
   "execution_count": null,
   "id": "4d33e6bd",
   "metadata": {},
   "outputs": [],
   "source": [
    "with open(\"movies.json\") as f:\n",
    "    data7=json.load(f)"
   ]
  },
  {
   "cell_type": "code",
   "execution_count": null,
   "id": "77ea3b45",
   "metadata": {},
   "outputs": [],
   "source": [
    "pd.json_normalize(data7) #flatten the data"
   ]
  },
  {
   "cell_type": "code",
   "execution_count": null,
   "id": "979ddf1a",
   "metadata": {},
   "outputs": [],
   "source": [
    "pd.json_normalize(data7,\"genres\",\"title\")  #flatten genres column"
   ]
  },
  {
   "cell_type": "markdown",
   "id": "5a4accf5",
   "metadata": {},
   "source": [
    "## Importing and storing the movies database [Real world Scenario]"
   ]
  },
  {
   "cell_type": "code",
   "execution_count": null,
   "id": "41299181",
   "metadata": {},
   "outputs": [],
   "source": [
    "df_movies"
   ]
  },
  {
   "cell_type": "code",
   "execution_count": null,
   "id": "99c69bf0",
   "metadata": {},
   "outputs": [],
   "source": [
    "#save it in the csv files\n",
    "df_movies.to_csv(\"movies_raw.csv\",index=False)"
   ]
  },
  {
   "cell_type": "code",
   "execution_count": null,
   "id": "122655de",
   "metadata": {},
   "outputs": [],
   "source": [
    "df_movies_raw=pd.read_csv(\"movies_raw.csv\")\n",
    "df_movies_raw"
   ]
  },
  {
   "cell_type": "code",
   "execution_count": null,
   "id": "5b3ddf3a",
   "metadata": {},
   "outputs": [],
   "source": [
    "#nested column genres\n",
    "df_movies_raw[\"genres\"]"
   ]
  },
  {
   "cell_type": "code",
   "execution_count": null,
   "id": "4cfdb9b7",
   "metadata": {},
   "outputs": [],
   "source": [
    "df_movies_raw[\"genres\"][0]"
   ]
  },
  {
   "cell_type": "code",
   "execution_count": null,
   "id": "757fcaba",
   "metadata": {},
   "outputs": [],
   "source": [
    "print(\"The End\")"
   ]
  }
 ],
 "metadata": {
  "kernelspec": {
   "display_name": "Python 3 (ipykernel)",
   "language": "python",
   "name": "python3"
  },
  "language_info": {
   "codemirror_mode": {
    "name": "ipython",
    "version": 3
   },
   "file_extension": ".py",
   "mimetype": "text/x-python",
   "name": "python",
   "nbconvert_exporter": "python",
   "pygments_lexer": "ipython3",
   "version": "3.9.12"
  }
 },
 "nbformat": 4,
 "nbformat_minor": 5
}
