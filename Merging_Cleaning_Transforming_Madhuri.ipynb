{
 "cells": [
  {
   "cell_type": "markdown",
   "id": "a5d01e59",
   "metadata": {},
   "source": [
    "# Merging & Cleaning & Transforming Data (Movies Dataset)"
   ]
  },
  {
   "cell_type": "markdown",
   "id": "2902590a",
   "metadata": {},
   "source": [
    "## Introduction / Getting the Datasets"
   ]
  },
  {
   "cell_type": "markdown",
   "id": "f81c1cec",
   "metadata": {},
   "source": [
    "1. __Load__ and __inspect__ the datasets \"movies_clean.csv\" and \"credits.csv\". __Identify__ stringified/nested __json columns__ in the __credits__ dataset."
   ]
  },
  {
   "cell_type": "code",
   "execution_count": null,
   "id": "f249c957",
   "metadata": {},
   "outputs": [],
   "source": [
    "import pandas as pd"
   ]
  },
  {
   "cell_type": "code",
   "execution_count": null,
   "id": "0e6d9f39",
   "metadata": {},
   "outputs": [],
   "source": [
    "df=pd.read_csv('movies_clean.csv',parse_dates=[\"release_date\"])"
   ]
  },
  {
   "cell_type": "code",
   "execution_count": null,
   "id": "982d1d38",
   "metadata": {},
   "outputs": [],
   "source": [
    "df.info()"
   ]
  },
  {
   "cell_type": "code",
   "execution_count": null,
   "id": "82a93ab9",
   "metadata": {},
   "outputs": [],
   "source": [
    "#credits.csv --> contains information on the movies cast and crew\n",
    "credits=pd.read_csv(\"credits.csv\")"
   ]
  },
  {
   "cell_type": "code",
   "execution_count": null,
   "id": "8bb353cf",
   "metadata": {},
   "outputs": [],
   "source": [
    "credits"
   ]
  },
  {
   "cell_type": "code",
   "execution_count": null,
   "id": "b100b940",
   "metadata": {},
   "outputs": [],
   "source": [
    "credits.info()"
   ]
  },
  {
   "cell_type": "code",
   "execution_count": null,
   "id": "671225cc",
   "metadata": {},
   "outputs": [],
   "source": [
    "credits.cast[0]"
   ]
  },
  {
   "cell_type": "code",
   "execution_count": null,
   "id": "ab518eae",
   "metadata": {},
   "outputs": [],
   "source": [
    "credits.crew[0]"
   ]
  },
  {
   "cell_type": "markdown",
   "id": "05e4d177",
   "metadata": {},
   "source": [
    "## Preparing the Data for Merge"
   ]
  },
  {
   "cell_type": "markdown",
   "id": "8a2a8fdf",
   "metadata": {},
   "source": [
    "2. __Drop Duplicates__ in the credits datasets. (similar to Project 3)"
   ]
  },
  {
   "cell_type": "code",
   "execution_count": null,
   "id": "915bbec3",
   "metadata": {},
   "outputs": [],
   "source": [
    "credits.id.value_counts()\n",
    "#we have duplicates"
   ]
  },
  {
   "cell_type": "code",
   "execution_count": null,
   "id": "a5eff3ef",
   "metadata": {},
   "outputs": [],
   "source": [
    "credits[credits.duplicated(subset=[\"id\"],keep=False)].sort_values(\"id\")"
   ]
  },
  {
   "cell_type": "code",
   "execution_count": null,
   "id": "292428a0",
   "metadata": {},
   "outputs": [],
   "source": [
    "#keep only one instance of the duplicate\n",
    "credits.drop_duplicates(subset=\"id\",inplace=True)"
   ]
  },
  {
   "cell_type": "code",
   "execution_count": null,
   "id": "c8a058e7",
   "metadata": {},
   "outputs": [],
   "source": [
    "credits.id.value_counts() \n",
    "#now we have only one instance of each id"
   ]
  },
  {
   "cell_type": "markdown",
   "id": "9f22642d",
   "metadata": {},
   "source": [
    "## Merging the Data"
   ]
  },
  {
   "cell_type": "markdown",
   "id": "85374c45",
   "metadata": {},
   "source": [
    "3. __Merge/Join__ the datasets movies_clean and credits. -> Add the features __cast__ and __crew__ to the movies_clean dataset."
   ]
  },
  {
   "cell_type": "code",
   "execution_count": null,
   "id": "6d3884b4",
   "metadata": {},
   "outputs": [],
   "source": [
    "#merging the data using left join \n",
    "#df is the left data frame \n",
    "#credits is the right data frame \n",
    "#find out any movies in df for which we dont have cast and crew information in the credits dataframe\n",
    "df[~df.id.isin(credits.id)]\n",
    "#output says we will get cast and crew for all movies in the movies dataset"
   ]
  },
  {
   "cell_type": "code",
   "execution_count": null,
   "id": "2e6afbcb",
   "metadata": {},
   "outputs": [],
   "source": [
    "#filter out those movies where we have cast and crew data but no information in df\n",
    "credits[~credits.id.isin(df.id)]\n",
    "#we have 741 movies that are in credits but not in df"
   ]
  },
  {
   "cell_type": "code",
   "execution_count": null,
   "id": "beddaa90",
   "metadata": {},
   "outputs": [],
   "source": [
    "#perform the left join or left merge on left data frame df and pass credits as the right dataframe \n",
    "#columns to join are the movie id in the left data frame and the id column in the right data frame\n",
    "df=df.merge(credits,how=\"left\",left_on=\"id\",right_on=\"id\")"
   ]
  },
  {
   "cell_type": "code",
   "execution_count": null,
   "id": "a533734b",
   "metadata": {},
   "outputs": [],
   "source": [
    "df\n",
    "#adding two more columns cast and crew to df"
   ]
  },
  {
   "cell_type": "code",
   "execution_count": null,
   "id": "024a731a",
   "metadata": {},
   "outputs": [],
   "source": [
    "df.info()"
   ]
  },
  {
   "cell_type": "markdown",
   "id": "cead884d",
   "metadata": {},
   "source": [
    "## Cleaning and Transforming the new \"Cast\" Column"
   ]
  },
  {
   "cell_type": "markdown",
   "id": "6da1b5e3",
   "metadata": {},
   "source": [
    "4.  __Evaluate__ Python Expressions in the stringified column \"cast\" and __remove quotes__ (\"\") where possible."
   ]
  },
  {
   "cell_type": "markdown",
   "id": "3ef56236",
   "metadata": {},
   "source": [
    "5. __Determine__ the __cast size__ for all movies (number of actors) and add the additional column \"cast_size\"."
   ]
  },
  {
   "cell_type": "markdown",
   "id": "3664d205",
   "metadata": {},
   "source": [
    "6. __Extract__ all __actor names__ from the column \"cast\" and __overwrite__ \"cast\". If a movie has more than one actor, __seperate names by a pipe__ \"|\".<br>\n",
    "For example: The value in the first row (Toy Story) should be 'Tom Hanks|Tim Allen|Don Rickles|Jim Varney|Wallace Shawn|John Ratzenberger|Annie Potts|John Morris|Erik von Detten|Laurie Metcalf|R. Lee Ermey|Sarah Freeman|Penn Jillette'."
   ]
  },
  {
   "cell_type": "markdown",
   "id": "0bd57abe",
   "metadata": {},
   "source": [
    "7. __Inspect__ cast with value_counts(). Do you see anything strange? __Take reasonable measures__!"
   ]
  },
  {
   "cell_type": "code",
   "execution_count": null,
   "id": "85e9451a",
   "metadata": {},
   "outputs": [],
   "source": [
    "import ast\n",
    "import numpy as np"
   ]
  },
  {
   "cell_type": "code",
   "execution_count": null,
   "id": "05ae1bc5",
   "metadata": {},
   "outputs": [],
   "source": [
    "df.cast[0]   #data is stringified json data "
   ]
  },
  {
   "cell_type": "code",
   "execution_count": null,
   "id": "000549ae",
   "metadata": {},
   "outputs": [],
   "source": [
    "df.cast=df.cast.apply(lambda x: ast.literal_eval(x) if isinstance(x,str) else np.nan)"
   ]
  },
  {
   "cell_type": "code",
   "execution_count": null,
   "id": "754e1643",
   "metadata": {},
   "outputs": [],
   "source": [
    "df.cast[0]\n",
    "#each and every element in the list is a dictonary with information on character and actor names"
   ]
  },
  {
   "cell_type": "code",
   "execution_count": null,
   "id": "9987b918",
   "metadata": {},
   "outputs": [],
   "source": [
    "pd.DataFrame(df.cast[0])"
   ]
  },
  {
   "cell_type": "code",
   "execution_count": null,
   "id": "210cb25d",
   "metadata": {},
   "outputs": [],
   "source": [
    "#determine the length of the cast list \n",
    "df[\"cast_size\"]=df.cast.apply(lambda x:len(x))"
   ]
  },
  {
   "cell_type": "code",
   "execution_count": null,
   "id": "ccf750b4",
   "metadata": {},
   "outputs": [],
   "source": [
    "df.cast_size"
   ]
  },
  {
   "cell_type": "code",
   "execution_count": null,
   "id": "a3462b97",
   "metadata": {},
   "outputs": [],
   "source": [
    "df.cast_size.value_counts(dropna=False).head(50)\n",
    "#most common case size is 10 "
   ]
  },
  {
   "cell_type": "code",
   "execution_count": null,
   "id": "df0a1c4a",
   "metadata": {},
   "outputs": [],
   "source": [
    "df.cast=df.cast.apply(lambda x:'|'.join(i['name'] for i in x) if isinstance(x,list) else np.nan)"
   ]
  },
  {
   "cell_type": "code",
   "execution_count": null,
   "id": "3c1114fd",
   "metadata": {},
   "outputs": [],
   "source": [
    "df.cast"
   ]
  },
  {
   "cell_type": "code",
   "execution_count": null,
   "id": "7735bd50",
   "metadata": {},
   "outputs": [],
   "source": [
    "df.cast[0]"
   ]
  },
  {
   "cell_type": "code",
   "execution_count": null,
   "id": "60ad08d0",
   "metadata": {},
   "outputs": [],
   "source": [
    "df.cast.value_counts(dropna=False).head(50)"
   ]
  },
  {
   "cell_type": "code",
   "execution_count": null,
   "id": "e34635bb",
   "metadata": {},
   "outputs": [],
   "source": [
    "df.cast.replace(\"\",np.nan,inplace=True)\n",
    "#replace missing values"
   ]
  },
  {
   "cell_type": "code",
   "execution_count": null,
   "id": "6c330e68",
   "metadata": {},
   "outputs": [],
   "source": [
    "df.cast.value_counts(dropna=False).head(50)"
   ]
  },
  {
   "cell_type": "markdown",
   "id": "e8bcfcf8",
   "metadata": {},
   "source": [
    "## Cleaning and Transforming the new \"Crew\" Column"
   ]
  },
  {
   "cell_type": "markdown",
   "id": "8fd68cb9",
   "metadata": {},
   "source": [
    "8.  __Evaluate__ Python Expressions in the stringified column \"crew\" and __remove quotes__ (\"\") where possible."
   ]
  },
  {
   "cell_type": "markdown",
   "id": "b418a0d4",
   "metadata": {},
   "source": [
    "9. __Determine__ the __crew size__ for all movies (size of the crew) and add the additional column \"crew_size\"."
   ]
  },
  {
   "cell_type": "markdown",
   "id": "153fc37d",
   "metadata": {},
   "source": [
    "10. __Extract__ the __director name__ from the column \"crew\" and create the new column \"director\". <br> For example: The value in the first row (Toy Story) should be 'John Lasseter'."
   ]
  },
  {
   "cell_type": "code",
   "execution_count": null,
   "id": "e9eacfef",
   "metadata": {},
   "outputs": [],
   "source": [
    "df.crew[0]"
   ]
  },
  {
   "cell_type": "code",
   "execution_count": null,
   "id": "3bc17b64",
   "metadata": {},
   "outputs": [],
   "source": [
    "#apply literal eval on each and every string to extract the data\n",
    "df.crew=df.crew.apply(lambda x: ast.literal_eval(x) if isinstance(x,str) else np.nan)"
   ]
  },
  {
   "cell_type": "code",
   "execution_count": null,
   "id": "6cc012bd",
   "metadata": {},
   "outputs": [],
   "source": [
    "df.crew[0]\n",
    "#for each and every movie, we have a list containing dictionary\n",
    "#each and every dictionary is a crew member"
   ]
  },
  {
   "cell_type": "code",
   "execution_count": null,
   "id": "a75a84b2",
   "metadata": {},
   "outputs": [],
   "source": [
    "pd.DataFrame(df.crew[0])\n",
    "#for toy story we have a crew size of 106 rows"
   ]
  },
  {
   "cell_type": "code",
   "execution_count": null,
   "id": "ff86c1af",
   "metadata": {},
   "outputs": [],
   "source": [
    "df[\"crew_size\"]=df.crew.apply(lambda x:len(x))"
   ]
  },
  {
   "cell_type": "code",
   "execution_count": null,
   "id": "3c904165",
   "metadata": {},
   "outputs": [],
   "source": [
    "df.crew_size.value_counts(dropna=False).head(50)\n",
    "#most frequent crew size is 2,3,1"
   ]
  },
  {
   "cell_type": "code",
   "execution_count": null,
   "id": "7b72fa83",
   "metadata": {},
   "outputs": [],
   "source": [
    "#extract the director \n",
    "#for each and every movie, we have list and in that list we have dictionary.\n",
    "#in that dictionary, we have actually one crew member\n",
    "#we want to extract one crew member, with the name of the crew member as director \n",
    "#we should iterate through the list, in case we find the the job director, we should take the name eg John Lasseter\n",
    "def get_director(x):\n",
    "    for i in x:\n",
    "        if i['job']=='Director':\n",
    "            return i['name']\n",
    "    return np.nan\n",
    "#return name of director if job else return missing value"
   ]
  },
  {
   "cell_type": "code",
   "execution_count": null,
   "id": "5aa90138",
   "metadata": {},
   "outputs": [],
   "source": [
    "#we can apply this user-defined function to each and every element of crew column\n",
    "df[\"director\"]=df.crew.apply(get_director)"
   ]
  },
  {
   "cell_type": "code",
   "execution_count": null,
   "id": "d294502e",
   "metadata": {},
   "outputs": [],
   "source": [
    "df.director"
   ]
  },
  {
   "cell_type": "code",
   "execution_count": null,
   "id": "00947348",
   "metadata": {},
   "outputs": [],
   "source": [
    "df.director.value_counts(dropna=False).head(50)\n",
    "#over 700 missing values"
   ]
  },
  {
   "cell_type": "markdown",
   "id": "5e2b6fd1",
   "metadata": {},
   "source": [
    "## Final Steps"
   ]
  },
  {
   "cell_type": "markdown",
   "id": "654aa853",
   "metadata": {},
   "source": [
    "11. __Drop__ the column \"crew\" and __save__ the dataset in a csv-file."
   ]
  },
  {
   "cell_type": "code",
   "execution_count": null,
   "id": "66adb9ed",
   "metadata": {},
   "outputs": [],
   "source": [
    "df.head(2)"
   ]
  },
  {
   "cell_type": "code",
   "execution_count": null,
   "id": "261fddb0",
   "metadata": {},
   "outputs": [],
   "source": [
    "df.info()"
   ]
  },
  {
   "cell_type": "code",
   "execution_count": null,
   "id": "b6bbc227",
   "metadata": {},
   "outputs": [],
   "source": [
    "df.drop(columns=\"crew\",inplace=True)"
   ]
  },
  {
   "cell_type": "code",
   "execution_count": null,
   "id": "713e5080",
   "metadata": {},
   "outputs": [],
   "source": [
    "df.to_csv(\"movies_complete.csv\",index=False)"
   ]
  },
  {
   "cell_type": "code",
   "execution_count": null,
   "id": "9b31fdb4",
   "metadata": {},
   "outputs": [],
   "source": [
    "print(\"The End\")"
   ]
  }
 ],
 "metadata": {
  "kernelspec": {
   "display_name": "Python 3 (ipykernel)",
   "language": "python",
   "name": "python3"
  },
  "language_info": {
   "codemirror_mode": {
    "name": "ipython",
    "version": 3
   },
   "file_extension": ".py",
   "mimetype": "text/x-python",
   "name": "python",
   "nbconvert_exporter": "python",
   "pygments_lexer": "ipython3",
   "version": "3.9.12"
  }
 },
 "nbformat": 4,
 "nbformat_minor": 5
}
