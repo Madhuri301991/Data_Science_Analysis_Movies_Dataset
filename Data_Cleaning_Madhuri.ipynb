{
 "cells": [
  {
   "cell_type": "markdown",
   "id": "49477616",
   "metadata": {},
   "source": [
    "# Data Cleaning - Tidy up messy Datasets (Movies Dataset)"
   ]
  },
  {
   "cell_type": "markdown",
   "id": "c0b64c98",
   "metadata": {},
   "source": [
    "## First Steps "
   ]
  },
  {
   "cell_type": "markdown",
   "id": "d4a074d2",
   "metadata": {},
   "source": [
    "1. __Load__ and __inspect__ the messy dataset __movies_metadata.csv__. Identify columns with nested / stringified json data."
   ]
  },
  {
   "cell_type": "code",
   "execution_count": null,
   "id": "8d3cf714",
   "metadata": {},
   "outputs": [],
   "source": [
    "import pandas as pd\n",
    "import numpy as np\n",
    "pd.options.display.max_columns=30"
   ]
  },
  {
   "cell_type": "code",
   "execution_count": null,
   "id": "59d6addb",
   "metadata": {},
   "outputs": [],
   "source": [
    "df=pd.read_csv(\"movies_metadata.csv\",low_memory=False)"
   ]
  },
  {
   "cell_type": "code",
   "execution_count": null,
   "id": "2765fe1d",
   "metadata": {},
   "outputs": [],
   "source": [
    "df"
   ]
  },
  {
   "cell_type": "code",
   "execution_count": null,
   "id": "5f712ebd",
   "metadata": {},
   "outputs": [],
   "source": [
    "df.info()"
   ]
  },
  {
   "cell_type": "code",
   "execution_count": null,
   "id": "3e208b41",
   "metadata": {},
   "outputs": [],
   "source": [
    "df[\"genres\"]"
   ]
  },
  {
   "cell_type": "code",
   "execution_count": null,
   "id": "565d0338",
   "metadata": {},
   "outputs": [],
   "source": [
    "df[\"genres\"][0]  #output is a string not a list"
   ]
  },
  {
   "cell_type": "code",
   "execution_count": null,
   "id": "26ab7826",
   "metadata": {},
   "outputs": [],
   "source": [
    "df[\"belongs_to_collection\"]"
   ]
  },
  {
   "cell_type": "code",
   "execution_count": null,
   "id": "ac8f025e",
   "metadata": {},
   "outputs": [],
   "source": [
    "df[\"belongs_to_collection\"][0]"
   ]
  },
  {
   "cell_type": "markdown",
   "id": "55584235",
   "metadata": {},
   "source": [
    "## Dropping irrelevant Columns"
   ]
  },
  {
   "cell_type": "markdown",
   "id": "61afc2af",
   "metadata": {},
   "source": [
    "2. __Drop__ the irrelevant columns 'adult', 'imdb_id', 'original_title', 'video' and 'homepage'."
   ]
  },
  {
   "cell_type": "code",
   "execution_count": null,
   "id": "6eaa789c",
   "metadata": {},
   "outputs": [],
   "source": [
    "df.adult.value_counts()"
   ]
  },
  {
   "cell_type": "code",
   "execution_count": null,
   "id": "0d08081a",
   "metadata": {},
   "outputs": [],
   "source": [
    "df.drop(columns=[\"adult\"],inplace=True)"
   ]
  },
  {
   "cell_type": "code",
   "execution_count": null,
   "id": "867f6492",
   "metadata": {},
   "outputs": [],
   "source": [
    "df.drop(columns=[\"imdb_id\"],inplace=True)"
   ]
  },
  {
   "cell_type": "code",
   "execution_count": null,
   "id": "24c56f3d",
   "metadata": {},
   "outputs": [],
   "source": [
    "df.drop(columns=[\"original_title\"],inplace=True)"
   ]
  },
  {
   "cell_type": "code",
   "execution_count": null,
   "id": "5e20b1d6",
   "metadata": {},
   "outputs": [],
   "source": [
    "df.drop(columns=[\"video\"],inplace=True)"
   ]
  },
  {
   "cell_type": "code",
   "execution_count": null,
   "id": "6e79bac6",
   "metadata": {},
   "outputs": [],
   "source": [
    "df.drop(columns=[\"homepage\"],inplace=True)"
   ]
  },
  {
   "cell_type": "markdown",
   "id": "5062c023",
   "metadata": {},
   "source": [
    "## How to handle stringified JSON columns"
   ]
  },
  {
   "cell_type": "markdown",
   "id": "0b9d7e17",
   "metadata": {},
   "source": [
    "3. __Evaluate__ Python Expressions in the stringified columns [\"belongs_to_collection\", \"genres\", \"production_countries\", \"production_companies\", \"spoken_languages\"] and __remove quotes__ (\"\") where possible."
   ]
  },
  {
   "cell_type": "code",
   "execution_count": null,
   "id": "c6f17f62",
   "metadata": {},
   "outputs": [],
   "source": [
    "#cleaning up messy data\n",
    "import json\n",
    "import ast\n",
    "#ast stands for abstract syntax trees"
   ]
  },
  {
   "cell_type": "code",
   "execution_count": null,
   "id": "801e84fb",
   "metadata": {},
   "outputs": [],
   "source": [
    "json_col=[\"belongs_to_collection\",\"genres\",\"production_countries\",\"production_companies\",\"spoken_languages\"]\n"
   ]
  },
  {
   "cell_type": "code",
   "execution_count": null,
   "id": "78d6a3a2",
   "metadata": {},
   "outputs": [],
   "source": [
    "#double quote is for dictionary, single quote is for value and key\n",
    "df.belongs_to_collection[0]"
   ]
  },
  {
   "cell_type": "code",
   "execution_count": null,
   "id": "da22ce90",
   "metadata": {},
   "outputs": [],
   "source": [
    "json2='{\"dog\":3,\"cat\":5}'\n",
    "json.loads(json2)         #converted stringified json data into a dictionary"
   ]
  },
  {
   "cell_type": "code",
   "execution_count": null,
   "id": "07e87d40",
   "metadata": {},
   "outputs": [],
   "source": [
    "json1=\"{'dog':3,'cat':5}\"  \n",
    "#json.loads(json1) #it wont work because it is not a valid json format"
   ]
  },
  {
   "cell_type": "code",
   "execution_count": null,
   "id": "d4b9fcbf",
   "metadata": {},
   "outputs": [],
   "source": [
    "json1.replace(\"'\",'\"')     #replace single quote with double quote because that is acceptable for json"
   ]
  },
  {
   "cell_type": "code",
   "execution_count": null,
   "id": "959f91cc",
   "metadata": {},
   "outputs": [],
   "source": [
    "json.loads(json1.replace(\"'\",'\"'))"
   ]
  },
  {
   "cell_type": "code",
   "execution_count": null,
   "id": "cb7bd192",
   "metadata": {},
   "outputs": [],
   "source": [
    "df.genres.apply(lambda x: json.loads(x.replace(\"'\",'\"')))\n",
    "#replace each and every element x with single quote by double quote\n",
    "#converted stringfied json data into a list"
   ]
  },
  {
   "cell_type": "code",
   "execution_count": null,
   "id": "6e5438cb",
   "metadata": {},
   "outputs": [],
   "source": [
    "df[\"genres\"][0]"
   ]
  },
  {
   "cell_type": "code",
   "execution_count": null,
   "id": "38f2c10f",
   "metadata": {},
   "outputs": [],
   "source": [
    "ast.literal_eval(json1)"
   ]
  },
  {
   "cell_type": "code",
   "execution_count": null,
   "id": "cddad1d9",
   "metadata": {},
   "outputs": [],
   "source": [
    "ast.literal_eval(json2)"
   ]
  },
  {
   "cell_type": "code",
   "execution_count": null,
   "id": "efd20919",
   "metadata": {},
   "outputs": [],
   "source": [
    "#apply literal_eval on each and every element of the genres column"
   ]
  },
  {
   "cell_type": "code",
   "execution_count": null,
   "id": "013b776c",
   "metadata": {},
   "outputs": [],
   "source": [
    "df[\"genres\"].apply(ast.literal_eval) \n",
    "#same as lambda x: json.loads(x.replace) but more efficient\n",
    "#converted stringfied json data into a list"
   ]
  },
  {
   "cell_type": "code",
   "execution_count": null,
   "id": "07c370d7",
   "metadata": {},
   "outputs": [],
   "source": [
    "df.genres=df.genres.apply(ast.literal_eval)"
   ]
  },
  {
   "cell_type": "code",
   "execution_count": null,
   "id": "01e3aa47",
   "metadata": {},
   "outputs": [],
   "source": [
    "# df.loc[:,json_col].apply(ast.literal_eval,axis=0) \n",
    "#-- gives error because it has mixed data type in json_col  -- \"belongs to collection\""
   ]
  },
  {
   "cell_type": "code",
   "execution_count": null,
   "id": "cfa4e285",
   "metadata": {},
   "outputs": [],
   "source": [
    "# ast.literal_eval(0) #it gives value error for '0' value\n",
    "#literal_eval wont work if you pass objects other than strings\n",
    "# apply literal_eval to string only "
   ]
  },
  {
   "cell_type": "code",
   "execution_count": null,
   "id": "da51287d",
   "metadata": {},
   "outputs": [],
   "source": [
    "##part 2"
   ]
  },
  {
   "cell_type": "code",
   "execution_count": null,
   "id": "5869867e",
   "metadata": {},
   "outputs": [],
   "source": [
    "df.belongs_to_collection.apply(lambda x: isinstance(x,str)) #it will check whether element is a string or not"
   ]
  },
  {
   "cell_type": "code",
   "execution_count": null,
   "id": "6a06fb4a",
   "metadata": {},
   "outputs": [],
   "source": [
    "df.belongs_to_collection=df.belongs_to_collection.apply(lambda x: ast.literal_eval(x) if isinstance(x,str) else np.nan)\n",
    "#it checks whether each element of the column belongs to string \n",
    "#if it is string, apply the literal_eval else convert into missing values of np.nan"
   ]
  },
  {
   "cell_type": "code",
   "execution_count": null,
   "id": "d67dee56",
   "metadata": {},
   "outputs": [],
   "source": [
    "df.belongs_to_collection"
   ]
  },
  {
   "cell_type": "code",
   "execution_count": null,
   "id": "04ce4584",
   "metadata": {},
   "outputs": [],
   "source": [
    "df.spoken_languages"
   ]
  },
  {
   "cell_type": "code",
   "execution_count": null,
   "id": "fefc4bb4",
   "metadata": {},
   "outputs": [],
   "source": [
    "df.spoken_languages=df.spoken_languages.apply(lambda x: ast.literal_eval(x) if isinstance(x,str) else np.nan)"
   ]
  },
  {
   "cell_type": "code",
   "execution_count": null,
   "id": "26d5eba2",
   "metadata": {},
   "outputs": [],
   "source": [
    "df.production_countries"
   ]
  },
  {
   "cell_type": "code",
   "execution_count": null,
   "id": "76b152fb",
   "metadata": {},
   "outputs": [],
   "source": [
    "df.production_countries=df.production_countries.apply(lambda x: ast.literal_eval(x) if isinstance(x,str) else np.nan)"
   ]
  },
  {
   "cell_type": "code",
   "execution_count": null,
   "id": "b2b9a288",
   "metadata": {},
   "outputs": [],
   "source": [
    "df.production_companies"
   ]
  },
  {
   "cell_type": "code",
   "execution_count": null,
   "id": "670db516",
   "metadata": {},
   "outputs": [],
   "source": [
    "df.production_companies=df.production_companies.apply(lambda x: ast.literal_eval(x) if isinstance(x,str) else np.nan)"
   ]
  },
  {
   "cell_type": "code",
   "execution_count": null,
   "id": "fbffc7c6",
   "metadata": {},
   "outputs": [],
   "source": [
    "df  # we have nested columns but instead of stringfied json we have list and dictionaries"
   ]
  },
  {
   "cell_type": "markdown",
   "id": "5c671025",
   "metadata": {},
   "source": [
    "## How to flatten nested Columns"
   ]
  },
  {
   "cell_type": "markdown",
   "id": "2c2d21b3",
   "metadata": {},
   "source": [
    "4. __Extract__ only the __collection name__ from the column \"belongs_to_collection\" and __overwrite__ \"belongs_to_collection\". <br> For example: The value in the first row (Toy Story) should be 'Toy Story Collection'."
   ]
  },
  {
   "cell_type": "markdown",
   "id": "5128e215",
   "metadata": {},
   "source": [
    "5. __Extract__ all __genre names__ from the column \"genres\" and __overwrite__ \"genres\". If a movie has more than one genre, __seperate genres by a pipe__ \"|\".<br>\n",
    "For example: The value in the first row (Toy Story) should be 'Animation|Comedy|Family'."
   ]
  },
  {
   "cell_type": "markdown",
   "id": "3718efb3",
   "metadata": {},
   "source": [
    "6. __Extract__ all __spoken language names__ from the column \"spoken_languages\" and __overwrite__ \"spoken_languages\". If a movie has more than one spoken language, __seperate spoken languages by a pipe__ \"|\".<br>\n",
    "For example: The value in the first row (Toy Story) should be 'English'."
   ]
  },
  {
   "cell_type": "markdown",
   "id": "08d75d3d",
   "metadata": {},
   "source": [
    "7. __Extract__ all __production countries names__ from the column \"production_countries\" and __overwrite__ \"production_countries\". If a movie has more than one production country, __seperate production countries by a pipe__ \"|\".<br>\n",
    "For example: The value in the first row (Toy Story) should be 'United States of America'."
   ]
  },
  {
   "cell_type": "markdown",
   "id": "a05f753e",
   "metadata": {},
   "source": [
    "8. __Extract__ all __production companies names__ from the column \"production_companies\" and __overwrite__ \"production_companies\". If a movie has more than one production company, __seperate production companies by a pipe__ \"|\".<br>\n",
    "For example: The value in the first row (Toy Story) should be 'Pixar Animation Studios'"
   ]
  },
  {
   "cell_type": "markdown",
   "id": "3214a78d",
   "metadata": {},
   "source": [
    "9. __Inspect__ all columns above with value_counts(). Do you see anything strange? __Take reasonable measures__!"
   ]
  },
  {
   "cell_type": "code",
   "execution_count": null,
   "id": "2f316590",
   "metadata": {},
   "outputs": [],
   "source": [
    "df[\"belongs_to_collection\"][0]"
   ]
  },
  {
   "cell_type": "code",
   "execution_count": null,
   "id": "0c464889",
   "metadata": {},
   "outputs": [],
   "source": [
    "df[\"belongs_to_collection\"]=df[\"belongs_to_collection\"].apply(lambda x: x['name'] if isinstance(x,dict) else np.nan)\n",
    "#if element is not a dictionary, then we should have a missing value"
   ]
  },
  {
   "cell_type": "code",
   "execution_count": null,
   "id": "415bfecd",
   "metadata": {},
   "outputs": [],
   "source": [
    "df[\"belongs_to_collection\"]"
   ]
  },
  {
   "cell_type": "code",
   "execution_count": null,
   "id": "fddb0a33",
   "metadata": {},
   "outputs": [],
   "source": [
    "df.belongs_to_collection.value_counts(dropna=False).head(20)\n",
    "#40975 movies dont belong to a collection "
   ]
  },
  {
   "cell_type": "code",
   "execution_count": null,
   "id": "3c15e2e5",
   "metadata": {},
   "outputs": [],
   "source": [
    "df.genres[0]"
   ]
  },
  {
   "cell_type": "code",
   "execution_count": null,
   "id": "04a70e8f",
   "metadata": {},
   "outputs": [],
   "source": [
    "df.genres=df.genres.apply(lambda x:\"|\".join(i['name'] for i in x))\n",
    "#just retrieve the names of genres"
   ]
  },
  {
   "cell_type": "code",
   "execution_count": null,
   "id": "74684caa",
   "metadata": {},
   "outputs": [],
   "source": [
    "df.genres[0]"
   ]
  },
  {
   "cell_type": "code",
   "execution_count": null,
   "id": "3efaca70",
   "metadata": {},
   "outputs": [],
   "source": [
    "df.genres.value_counts(dropna=False).head(20)\n",
    "#empty string with 2442 instances\n"
   ]
  },
  {
   "cell_type": "code",
   "execution_count": null,
   "id": "2a1245c7",
   "metadata": {},
   "outputs": [],
   "source": [
    "#replace empty string with a missing value\n",
    "df.genres.replace(\"\",np.nan,inplace=True)"
   ]
  },
  {
   "cell_type": "code",
   "execution_count": null,
   "id": "37690d9b",
   "metadata": {},
   "outputs": [],
   "source": [
    "df.genres.value_counts(dropna=False).head(20)\n",
    "#now we have 2442 NaN missing values"
   ]
  },
  {
   "cell_type": "code",
   "execution_count": null,
   "id": "2d108220",
   "metadata": {},
   "outputs": [],
   "source": [
    "df.spoken_languages"
   ]
  },
  {
   "cell_type": "code",
   "execution_count": null,
   "id": "03322c5d",
   "metadata": {},
   "outputs": [],
   "source": [
    "df.spoken_languages=df.spoken_languages.apply(lambda x:'|'.join(i['name'] for i in x) if isinstance(x,list) else np.nan)"
   ]
  },
  {
   "cell_type": "code",
   "execution_count": null,
   "id": "d36a16eb",
   "metadata": {},
   "outputs": [],
   "source": [
    "df.spoken_languages.value_counts(dropna=False).head(20)\n",
    "#second most value is an empty string with 3952 "
   ]
  },
  {
   "cell_type": "code",
   "execution_count": null,
   "id": "a7d4407a",
   "metadata": {},
   "outputs": [],
   "source": [
    "#replace empty string with NaN missing values\n",
    "df.spoken_languages.replace(\"\",np.nan,inplace=True)"
   ]
  },
  {
   "cell_type": "code",
   "execution_count": null,
   "id": "acaacaa9",
   "metadata": {},
   "outputs": [],
   "source": [
    "df.spoken_languages"
   ]
  },
  {
   "cell_type": "code",
   "execution_count": null,
   "id": "fbad9e38",
   "metadata": {},
   "outputs": [],
   "source": [
    "df.production_countries"
   ]
  },
  {
   "cell_type": "code",
   "execution_count": null,
   "id": "7f623b00",
   "metadata": {},
   "outputs": [],
   "source": [
    "df.production_countries=df.production_countries.apply(lambda x:'|'.join(i['name'] for i in x) if isinstance(x,list) else np.nan)"
   ]
  },
  {
   "cell_type": "code",
   "execution_count": null,
   "id": "833acf79",
   "metadata": {},
   "outputs": [],
   "source": [
    "df.production_countries.value_counts(dropna=False).head(20)\n",
    "#6283 missing values--> convert it into nan string"
   ]
  },
  {
   "cell_type": "code",
   "execution_count": null,
   "id": "2be4ebbf",
   "metadata": {},
   "outputs": [],
   "source": [
    "df.production_countries.replace(\"\",np.nan,inplace=True)"
   ]
  },
  {
   "cell_type": "code",
   "execution_count": null,
   "id": "4419b63c",
   "metadata": {},
   "outputs": [],
   "source": [
    "df.production_countries.value_counts(dropna=False).head(20)"
   ]
  },
  {
   "cell_type": "code",
   "execution_count": null,
   "id": "01f7c54c",
   "metadata": {},
   "outputs": [],
   "source": [
    "df.production_companies"
   ]
  },
  {
   "cell_type": "code",
   "execution_count": null,
   "id": "594d4422",
   "metadata": {},
   "outputs": [],
   "source": [
    "df.production_companies=df.production_companies.apply(lambda x: '|'.join(i['name'] for i in x) if isinstance(x,list) else np.nan)"
   ]
  },
  {
   "cell_type": "code",
   "execution_count": null,
   "id": "80041181",
   "metadata": {},
   "outputs": [],
   "source": [
    "df.production_companies"
   ]
  },
  {
   "cell_type": "code",
   "execution_count": null,
   "id": "0e7281a2",
   "metadata": {},
   "outputs": [],
   "source": [
    "df.production_companies.value_counts(dropna=False).head(20)\n",
    "#11875 missing values"
   ]
  },
  {
   "cell_type": "code",
   "execution_count": null,
   "id": "28732465",
   "metadata": {},
   "outputs": [],
   "source": [
    "df.production_companies.replace(\"\",np.nan,inplace=True)\n",
    "#convert missing values to np.nan"
   ]
  },
  {
   "cell_type": "code",
   "execution_count": null,
   "id": "075ddcba",
   "metadata": {},
   "outputs": [],
   "source": [
    "df.production_companies.value_counts(dropna=False).head(20)\n",
    "#11881 values are np.nan"
   ]
  },
  {
   "cell_type": "code",
   "execution_count": null,
   "id": "fef9c946",
   "metadata": {},
   "outputs": [],
   "source": [
    "#check the no of missing values in our columns\n",
    "df.isna().sum()"
   ]
  },
  {
   "cell_type": "code",
   "execution_count": null,
   "id": "c4e57a58",
   "metadata": {},
   "outputs": [],
   "source": [
    "#compare it with the original data frame that was uncleaned\n",
    "pd.read_csv(\"movies_metadata.csv\",low_memory=False).isna().sum()\n",
    "#missing data doesnt mean uncleaned data\n",
    "#in original, we have 3 production_companies and 3 production_countries missing values"
   ]
  },
  {
   "cell_type": "markdown",
   "id": "a89ad9ae",
   "metadata": {},
   "source": [
    "## Cleaning Numerical Columns"
   ]
  },
  {
   "cell_type": "markdown",
   "id": "4b3c6274",
   "metadata": {},
   "source": [
    "10. __Convert__ the datatype in the columns __\"budget\"__, __\"id\"__ and __\"popularity\"__ __to numeric__. Set invalid values as NaN."
   ]
  },
  {
   "cell_type": "markdown",
   "id": "8ce3d421",
   "metadata": {},
   "source": [
    "11. __Analyze__ the columns __\"budget\"__ and __\"revenue\"__ and __\"runtime\"__. Analyze movies with a budget/revenue/runtime of 0. Do you think the value 0 is the most appropriate value? __Take reasonable measures__! "
   ]
  },
  {
   "cell_type": "markdown",
   "id": "ec2c0694",
   "metadata": {},
   "source": [
    "12. The columns \"budget\" and \"revenue\" shall show values in Million USD. __Convert and Overwrite__!"
   ]
  },
  {
   "cell_type": "markdown",
   "id": "1e6bebd8",
   "metadata": {},
   "source": [
    "13. __Analyze__ movies with a __vote_count of 0__. What´s the __vote_average__ for those movies? Do you think this value is the most appropriate value? __Take reasonable measures__!"
   ]
  },
  {
   "cell_type": "code",
   "execution_count": null,
   "id": "a9283409",
   "metadata": {},
   "outputs": [],
   "source": [
    "df.info() #convert datatype budget to object value"
   ]
  },
  {
   "cell_type": "code",
   "execution_count": null,
   "id": "673fa0d4",
   "metadata": {},
   "outputs": [],
   "source": [
    "#errors=\"coerce\" --> invalid value will be set to nan\n",
    "df.budget=pd.to_numeric(df.budget,errors=\"coerce\")"
   ]
  },
  {
   "cell_type": "code",
   "execution_count": null,
   "id": "2aef26ec",
   "metadata": {},
   "outputs": [],
   "source": [
    "df.budget.value_counts(dropna=False)\n",
    "#budget of 0 is the most frequent value"
   ]
  },
  {
   "cell_type": "code",
   "execution_count": null,
   "id": "e9aada35",
   "metadata": {},
   "outputs": [],
   "source": [
    "#consider 0 as the missing value np.nan, because 0 is not a valid value\n",
    "df.budget=df.budget.replace(0,np.nan)"
   ]
  },
  {
   "cell_type": "code",
   "execution_count": null,
   "id": "7e45949d",
   "metadata": {},
   "outputs": [],
   "source": [
    "#divide budget by 1 million and rewrite \n",
    "df.budget=df.budget.div(1000000)"
   ]
  },
  {
   "cell_type": "code",
   "execution_count": null,
   "id": "d6072866",
   "metadata": {},
   "outputs": [],
   "source": [
    "df.info()\n",
    "#budget is not converted to float64 from object"
   ]
  },
  {
   "cell_type": "code",
   "execution_count": null,
   "id": "cc2efb9c",
   "metadata": {},
   "outputs": [],
   "source": [
    "df.revenue.value_counts(dropna=False)\n",
    "#vast majority of movies has revenue 0.0\n",
    "# 0 is a placeholder for missing value"
   ]
  },
  {
   "cell_type": "code",
   "execution_count": null,
   "id": "41423d7f",
   "metadata": {},
   "outputs": [],
   "source": [
    "df.revenue=df.revenue.replace(0,np.nan)"
   ]
  },
  {
   "cell_type": "code",
   "execution_count": null,
   "id": "756844ef",
   "metadata": {},
   "outputs": [],
   "source": [
    "df.revenue=df.revenue.div(1000000) #revenue is in million dollar sor divide by 1million"
   ]
  },
  {
   "cell_type": "code",
   "execution_count": null,
   "id": "209c0681",
   "metadata": {},
   "outputs": [],
   "source": [
    "df.rename(columns={\"revenue\":\"revenue_musd\",\"budget\":\"budget_musd\"},inplace=True)"
   ]
  },
  {
   "cell_type": "code",
   "execution_count": null,
   "id": "d14d2466",
   "metadata": {},
   "outputs": [],
   "source": [
    "df.info()\n",
    "#revenue column has 7408 missing values"
   ]
  },
  {
   "cell_type": "code",
   "execution_count": null,
   "id": "31753280",
   "metadata": {},
   "outputs": [],
   "source": [
    "df.runtime.value_counts(dropna=False).head(20)\n",
    "#most frequent value is 0"
   ]
  },
  {
   "cell_type": "code",
   "execution_count": null,
   "id": "16e4a4a7",
   "metadata": {},
   "outputs": [],
   "source": [
    "#0 may indicate missing value so replace 0 by missing value of np.nan\n",
    "df.runtime=df.runtime.replace(0,np.nan)"
   ]
  },
  {
   "cell_type": "code",
   "execution_count": null,
   "id": "84a55e63",
   "metadata": {},
   "outputs": [],
   "source": [
    "df.info()"
   ]
  },
  {
   "cell_type": "code",
   "execution_count": null,
   "id": "0cb87818",
   "metadata": {},
   "outputs": [],
   "source": [
    "#convert id to numeric \n",
    "#pd.to_numeric(df.id) #it wont work --> gives error \n",
    "df.id=pd.to_numeric(df.id,errors=\"coerce\") "
   ]
  },
  {
   "cell_type": "code",
   "execution_count": null,
   "id": "1049a0e5",
   "metadata": {},
   "outputs": [],
   "source": [
    "df.id.value_counts(dropna=False).head(20)\n",
    "#id column has missing value and duplicated values"
   ]
  },
  {
   "cell_type": "code",
   "execution_count": null,
   "id": "0e8580c1",
   "metadata": {},
   "outputs": [],
   "source": [
    "df.info()"
   ]
  },
  {
   "cell_type": "code",
   "execution_count": null,
   "id": "8f8ed7e6",
   "metadata": {},
   "outputs": [],
   "source": [
    "#convert popularity column to numeric\n",
    "#pd.to_numeric(df.popularity) #gives error \n",
    "df.popularity=pd.to_numeric(df.popularity,errors=\"coerce\")"
   ]
  },
  {
   "cell_type": "code",
   "execution_count": null,
   "id": "2050f347",
   "metadata": {},
   "outputs": [],
   "source": [
    "df.popularity.value_counts(dropna=False).head(20)"
   ]
  },
  {
   "cell_type": "code",
   "execution_count": null,
   "id": "e25c40dc",
   "metadata": {},
   "outputs": [],
   "source": [
    "df.vote_count.value_counts(dropna=False).head(20)\n",
    "#0 rating for 2899 movies"
   ]
  },
  {
   "cell_type": "code",
   "execution_count": null,
   "id": "dc18adf9",
   "metadata": {},
   "outputs": [],
   "source": [
    "df.vote_average.value_counts(dropna=False).head(20)\n",
    "#0 value for 2998 records"
   ]
  },
  {
   "cell_type": "code",
   "execution_count": null,
   "id": "406aef1e",
   "metadata": {},
   "outputs": [],
   "source": [
    "df.loc[df.vote_count==0,\"vote_average\"]"
   ]
  },
  {
   "cell_type": "code",
   "execution_count": null,
   "id": "dd036974",
   "metadata": {},
   "outputs": [],
   "source": [
    "#convert a missing value for vote_average where vote_count is 0\n",
    "df.loc[df.vote_count==0,\"vote_average\"]==np.nan"
   ]
  },
  {
   "cell_type": "code",
   "execution_count": null,
   "id": "73f058fd",
   "metadata": {},
   "outputs": [],
   "source": [
    "df.info()"
   ]
  },
  {
   "cell_type": "markdown",
   "id": "dd7e2f97",
   "metadata": {},
   "source": [
    "## Cleaning DateTime Columns"
   ]
  },
  {
   "cell_type": "markdown",
   "id": "3b21f846",
   "metadata": {},
   "source": [
    "14. __Convert__ the datatype in the column __\"release_date\"__ __to datetime__. Set invalid values as NaN."
   ]
  },
  {
   "cell_type": "code",
   "execution_count": null,
   "id": "ed17da9f",
   "metadata": {},
   "outputs": [],
   "source": [
    "df.info()"
   ]
  },
  {
   "cell_type": "code",
   "execution_count": null,
   "id": "205e84f1",
   "metadata": {},
   "outputs": [],
   "source": [
    "#convert datatype of \"release_date\" to datetime from object\n",
    "df.release_date"
   ]
  },
  {
   "cell_type": "code",
   "execution_count": null,
   "id": "32c56959",
   "metadata": {},
   "outputs": [],
   "source": [
    "#pd.to_datetime(df.release_date) #it gives error \n",
    "df.release_date=pd.to_datetime(df.release_date,errors=\"coerce\")\n",
    "#using coerce --> converts missing value for those strings that cannot be converted into date time "
   ]
  },
  {
   "cell_type": "code",
   "execution_count": null,
   "id": "30fadb74",
   "metadata": {},
   "outputs": [],
   "source": [
    "df.info()"
   ]
  },
  {
   "cell_type": "code",
   "execution_count": null,
   "id": "f1da8064",
   "metadata": {},
   "outputs": [],
   "source": [
    "df.release_date.value_counts(dropna=False).head(20)\n",
    "#frequently we have 1st january consider it as placeholder for cases where we know release year of movie not actual date"
   ]
  },
  {
   "cell_type": "markdown",
   "id": "beef3661",
   "metadata": {},
   "source": [
    "## Cleaning Text / String Columns"
   ]
  },
  {
   "cell_type": "markdown",
   "id": "6713dbcd",
   "metadata": {},
   "source": [
    "15. __Analyze__ the text columns \"overview\" and \"tagline\". Try to identify __missing data that is not represented by NaN__ (e.g. \"No Data\"). __Replace as NaN__ (np.nan)!"
   ]
  },
  {
   "cell_type": "code",
   "execution_count": null,
   "id": "7cbef8df",
   "metadata": {},
   "outputs": [],
   "source": [
    "df.info()"
   ]
  },
  {
   "cell_type": "code",
   "execution_count": null,
   "id": "be91c65b",
   "metadata": {},
   "outputs": [],
   "source": [
    "df.original_language.value_counts(dropna=False).head(50)\n",
    "# 50 most frequent languages\n",
    "# Also have some missing values NaN"
   ]
  },
  {
   "cell_type": "code",
   "execution_count": null,
   "id": "5a69e3ea",
   "metadata": {},
   "outputs": [],
   "source": [
    "df.title"
   ]
  },
  {
   "cell_type": "code",
   "execution_count": null,
   "id": "c34a65c2",
   "metadata": {},
   "outputs": [],
   "source": [
    "df.title.value_counts(dropna=False).head(20)"
   ]
  },
  {
   "cell_type": "code",
   "execution_count": null,
   "id": "4f3d5b9d",
   "metadata": {},
   "outputs": [],
   "source": [
    "df.overview"
   ]
  },
  {
   "cell_type": "code",
   "execution_count": null,
   "id": "7a1e2ca2",
   "metadata": {},
   "outputs": [],
   "source": [
    "df.overview.value_counts(dropna=False).head(20)\n",
    "#954 NaN --> Missing values"
   ]
  },
  {
   "cell_type": "code",
   "execution_count": null,
   "id": "f22563c2",
   "metadata": {},
   "outputs": [],
   "source": [
    "#replace no overview found by missing value NaN\n",
    "df.overview.replace('No overview found',np.nan,inplace=True)"
   ]
  },
  {
   "cell_type": "code",
   "execution_count": null,
   "id": "6d2c3a3f",
   "metadata": {},
   "outputs": [],
   "source": [
    "df.overview.replace('No overview',np.nan,inplace=True)"
   ]
  },
  {
   "cell_type": "code",
   "execution_count": null,
   "id": "e54118ae",
   "metadata": {},
   "outputs": [],
   "source": [
    "df.overview.replace('No movie overview available',np.nan,inplace=True)"
   ]
  },
  {
   "cell_type": "code",
   "execution_count": null,
   "id": "f914fbd5",
   "metadata": {},
   "outputs": [],
   "source": [
    "#replace white space with a missing value\n",
    "df.overview.replace(\" \",np.nan,inplace=True)"
   ]
  },
  {
   "cell_type": "code",
   "execution_count": null,
   "id": "0e1a4324",
   "metadata": {},
   "outputs": [],
   "source": [
    "df.overview.replace(\"No overview yet\",np.nan,inplace=True)"
   ]
  },
  {
   "cell_type": "code",
   "execution_count": null,
   "id": "35a063a7",
   "metadata": {},
   "outputs": [],
   "source": [
    "df.tagline.value_counts(dropna=False).head(50)"
   ]
  },
  {
   "cell_type": "code",
   "execution_count": null,
   "id": "70e0539a",
   "metadata": {},
   "outputs": [],
   "source": [
    "df.tagline.replace(\"-\",np.nan,inplace=True)\n",
    "#now dataset is a lit bit cleaner "
   ]
  },
  {
   "cell_type": "markdown",
   "id": "5319431f",
   "metadata": {},
   "source": [
    "## Removing Duplicates"
   ]
  },
  {
   "cell_type": "markdown",
   "id": "e83f78e8",
   "metadata": {},
   "source": [
    "16. __Identify__ and __remove__ duplicates!"
   ]
  },
  {
   "cell_type": "code",
   "execution_count": null,
   "id": "998c679d",
   "metadata": {},
   "outputs": [],
   "source": [
    "df[df.duplicated(keep=False)]\n",
    "#returns all duplicate rows\n",
    "#check whether we have duplicates or not and then we are filtering df"
   ]
  },
  {
   "cell_type": "code",
   "execution_count": null,
   "id": "6aa8d52c",
   "metadata": {},
   "outputs": [],
   "source": [
    "df[df.duplicated(keep=False)].sort_values(by=\"id\") "
   ]
  },
  {
   "cell_type": "code",
   "execution_count": null,
   "id": "b4c7b203",
   "metadata": {},
   "outputs": [],
   "source": [
    "#drop one instance of duplicates and keep one instance of duplicates\n",
    "df.drop_duplicates(inplace=True)"
   ]
  },
  {
   "cell_type": "code",
   "execution_count": null,
   "id": "763cf887",
   "metadata": {},
   "outputs": [],
   "source": [
    "df[df.duplicated(subset=\"id\",keep=False)].sort_values(by=\"id\")\n",
    "#filter records that has identical movie id"
   ]
  },
  {
   "cell_type": "code",
   "execution_count": null,
   "id": "a773dbf2",
   "metadata": {},
   "outputs": [],
   "source": []
  },
  {
   "cell_type": "code",
   "execution_count": null,
   "id": "f2417a8c",
   "metadata": {},
   "outputs": [],
   "source": [
    "df.drop_duplicates(subset=\"id\",inplace=True)\n",
    "#some id values have duplicates so again drop one instance of row with duplicated id values"
   ]
  },
  {
   "cell_type": "code",
   "execution_count": null,
   "id": "6e8a8a8d",
   "metadata": {},
   "outputs": [],
   "source": [
    "df.id.value_counts(dropna=False)\n",
    "#now no duplicates"
   ]
  },
  {
   "cell_type": "markdown",
   "id": "e5afadc2",
   "metadata": {},
   "source": [
    "## Handling Missing Values & Removing Observations"
   ]
  },
  {
   "cell_type": "markdown",
   "id": "ba4d4ed2",
   "metadata": {},
   "source": [
    "17. __Drop__ all rows/movies with unknown __id__ or __title__."
   ]
  },
  {
   "cell_type": "markdown",
   "id": "5c510a82",
   "metadata": {},
   "source": [
    "18. __Keep__ only those rows/movies in the df with __10 or more non-NaN__ values."
   ]
  },
  {
   "cell_type": "code",
   "execution_count": null,
   "id": "0551b298",
   "metadata": {},
   "outputs": [],
   "source": [
    "df.info()"
   ]
  },
  {
   "cell_type": "code",
   "execution_count": null,
   "id": "32f460ca",
   "metadata": {},
   "outputs": [],
   "source": [
    "#for missing values\n",
    "#1] do nothing or\n",
    "#2] remove missing values or remove entire row/ or entire column that exceed certain no of missing values\n",
    "#3] replacing missing value with replacement values [done for ML purposes]\n",
    "df.isna().sum()   #directly gives the no of missing values\n",
    "#40946 missing values for belongs_to_collection"
   ]
  },
  {
   "cell_type": "code",
   "execution_count": null,
   "id": "1db44502",
   "metadata": {},
   "outputs": [],
   "source": [
    "df[df.title.isna()]"
   ]
  },
  {
   "cell_type": "code",
   "execution_count": null,
   "id": "17bceaf6",
   "metadata": {},
   "outputs": [],
   "source": [
    "#drop all rows or movies where we have missing values for titles\n",
    "df.dropna(subset=[\"id\",\"title\"],inplace=True)\n",
    "#dropna drops all row where we have atlease one missing row in the subset of id and title either id or title column"
   ]
  },
  {
   "cell_type": "code",
   "execution_count": null,
   "id": "a59f9852",
   "metadata": {},
   "outputs": [],
   "source": [
    "#now we wont have any missing values in the id and title column\n",
    "df.isna().sum()"
   ]
  },
  {
   "cell_type": "code",
   "execution_count": null,
   "id": "2d0f0e6c",
   "metadata": {},
   "outputs": [],
   "source": [
    "df[df.title.isna()]"
   ]
  },
  {
   "cell_type": "code",
   "execution_count": null,
   "id": "d4c3ac13",
   "metadata": {},
   "outputs": [],
   "source": [
    "#convert the datatype value of the id column from float to integer\n",
    "df.id=df.id.astype(\"int\")"
   ]
  },
  {
   "cell_type": "code",
   "execution_count": null,
   "id": "066b05bc",
   "metadata": {},
   "outputs": [],
   "source": [
    "#check for movies (each records) how many non missing values ie valid values\n",
    "df.notna().sum(axis=1)\n",
    "#for toystory we have 18 non missing values out of 18 columns\n"
   ]
  },
  {
   "cell_type": "code",
   "execution_count": null,
   "id": "ac596242",
   "metadata": {},
   "outputs": [],
   "source": [
    "df.notna().sum(axis=1).value_counts().sort_values(ascending=False)\n",
    "#6 movies have only 7 non missing values"
   ]
  },
  {
   "cell_type": "code",
   "execution_count": null,
   "id": "8cea0238",
   "metadata": {},
   "outputs": [],
   "source": [
    "df[df.notna().sum(axis=1)==7]   #filter those movies where we have 7 non-missing values"
   ]
  },
  {
   "cell_type": "code",
   "execution_count": null,
   "id": "8c391d8d",
   "metadata": {},
   "outputs": [],
   "source": [
    "#put a threshold of atleast 10 non -missing values\n",
    "#remove all movies with less than 10 non-missing values\n",
    "df.dropna(thresh=10,inplace=True)"
   ]
  },
  {
   "cell_type": "code",
   "execution_count": null,
   "id": "9ab02ad1",
   "metadata": {},
   "outputs": [],
   "source": [
    "df.info()"
   ]
  },
  {
   "cell_type": "code",
   "execution_count": null,
   "id": "b45e9f04",
   "metadata": {},
   "outputs": [],
   "source": [
    "df.isna().sum()"
   ]
  },
  {
   "cell_type": "markdown",
   "id": "383f3235",
   "metadata": {},
   "source": [
    "## Final (Cleaning) Steps"
   ]
  },
  {
   "cell_type": "markdown",
   "id": "6325d7e2",
   "metadata": {},
   "source": [
    "19. __Keep__ only those rows/movies in the df with __status \"Released\"__. Then __drop__ the column \"status\"."
   ]
  },
  {
   "cell_type": "markdown",
   "id": "07142e8b",
   "metadata": {},
   "source": [
    "20. The Order of the columns should be as follows: "
   ]
  },
  {
   "cell_type": "code",
   "execution_count": null,
   "id": "692a6d2f",
   "metadata": {},
   "outputs": [],
   "source": [
    "[\"id\", \"title\", \"tagline\", \"release_date\", \"genres\", \"belongs_to_collection\", \n",
    "\"original_language\", \"budget_musd\", \"revenue_musd\", \"production_companies\",\n",
    "\"production_countries\", \"vote_count\", \"vote_average\", \"popularity\", \"runtime\",\n",
    "\"overview\", \"spoken_languages\", \"poster_path\"]"
   ]
  },
  {
   "cell_type": "markdown",
   "id": "c7368573",
   "metadata": {},
   "source": [
    "21. __Reset__ the Index and create a __RangeIndex__."
   ]
  },
  {
   "cell_type": "markdown",
   "id": "14867e46",
   "metadata": {},
   "source": [
    "22. __Save__ the cleaned dataset in a __csv-file__."
   ]
  },
  {
   "cell_type": "code",
   "execution_count": null,
   "id": "42165ac5",
   "metadata": {},
   "outputs": [],
   "source": [
    "df.status.value_counts()"
   ]
  },
  {
   "cell_type": "code",
   "execution_count": null,
   "id": "2e08b52d",
   "metadata": {},
   "outputs": [],
   "source": [
    "#select only those rows with the value released \n",
    "df=df.loc[df[\"status\"]==\"Released\"].copy()"
   ]
  },
  {
   "cell_type": "code",
   "execution_count": null,
   "id": "a53fa23f",
   "metadata": {},
   "outputs": [],
   "source": [
    "df.drop(columns=[\"status\"],inplace=True)"
   ]
  },
  {
   "cell_type": "code",
   "execution_count": null,
   "id": "5086a49c",
   "metadata": {},
   "outputs": [],
   "source": [
    "col=[\"id\", \"title\", \"tagline\", \"release_date\", \"genres\", \"belongs_to_collection\", \n",
    "\"original_language\", \"budget_musd\", \"revenue_musd\", \"production_companies\",\n",
    "\"production_countries\", \"vote_count\", \"vote_average\", \"popularity\", \"runtime\",\n",
    "\"overview\", \"spoken_languages\", \"poster_path\"]"
   ]
  },
  {
   "cell_type": "code",
   "execution_count": null,
   "id": "565a9cfd",
   "metadata": {},
   "outputs": [],
   "source": [
    "df=df.loc[:,col]"
   ]
  },
  {
   "cell_type": "code",
   "execution_count": null,
   "id": "13ec0e53",
   "metadata": {},
   "outputs": [],
   "source": [
    "df"
   ]
  },
  {
   "cell_type": "code",
   "execution_count": null,
   "id": "bcccd988",
   "metadata": {},
   "outputs": [],
   "source": [
    "df.reset_index(drop=True,inplace=True)\n",
    "#drop index and create a new range index from 0 to 44810"
   ]
  },
  {
   "cell_type": "code",
   "execution_count": null,
   "id": "179751cc",
   "metadata": {},
   "outputs": [],
   "source": [
    "df.info()"
   ]
  },
  {
   "cell_type": "code",
   "execution_count": null,
   "id": "a325c24c",
   "metadata": {},
   "outputs": [],
   "source": [
    "df.poster_path[0]"
   ]
  },
  {
   "cell_type": "code",
   "execution_count": null,
   "id": "2029fabe",
   "metadata": {},
   "outputs": [],
   "source": [
    "base_poster_url='http://image.tmdb.org/t/p/w185/'\n",
    "df.poster_path=\"<img src='\"+ base_poster_url + df.poster_path + \"' style='height:100px;'>\"\n"
   ]
  },
  {
   "cell_type": "code",
   "execution_count": null,
   "id": "fa64c728",
   "metadata": {},
   "outputs": [],
   "source": [
    "df.poster_path[0]"
   ]
  },
  {
   "cell_type": "code",
   "execution_count": null,
   "id": "c15cff2a",
   "metadata": {},
   "outputs": [],
   "source": [
    "df.to_csv(\"movies_clean.csv\",index=False)"
   ]
  },
  {
   "cell_type": "code",
   "execution_count": null,
   "id": "4e05ed85",
   "metadata": {},
   "outputs": [],
   "source": [
    "pd.read_csv(\"movies_clean.csv\").info()"
   ]
  },
  {
   "cell_type": "code",
   "execution_count": null,
   "id": "0e3c908d",
   "metadata": {},
   "outputs": [],
   "source": [
    "print(\"The end\")"
   ]
  }
 ],
 "metadata": {
  "kernelspec": {
   "display_name": "Python 3 (ipykernel)",
   "language": "python",
   "name": "python3"
  },
  "language_info": {
   "codemirror_mode": {
    "name": "ipython",
    "version": 3
   },
   "file_extension": ".py",
   "mimetype": "text/x-python",
   "name": "python",
   "nbconvert_exporter": "python",
   "pygments_lexer": "ipython3",
   "version": "3.9.12"
  }
 },
 "nbformat": 4,
 "nbformat_minor": 5
}
