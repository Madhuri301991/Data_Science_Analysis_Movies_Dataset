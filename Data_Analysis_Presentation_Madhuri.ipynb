{
 "cells": [
  {
   "cell_type": "markdown",
   "id": "684a63b5",
   "metadata": {},
   "source": [
    "# Data Analysis & Data Presentation (Movies Dataset)"
   ]
  },
  {
   "cell_type": "markdown",
   "id": "5f60ddba",
   "metadata": {},
   "source": [
    "## Data Import and first Inspection"
   ]
  },
  {
   "cell_type": "code",
   "execution_count": null,
   "id": "1e9a01c3",
   "metadata": {},
   "outputs": [],
   "source": [
    "import pandas as pd\n",
    "import matplotlib.pyplot as plt\n",
    "import numpy as np\n",
    "pd.options.display.max_columns=30\n",
    "pd.options.display.float_format='{:.2F}'.format"
   ]
  },
  {
   "cell_type": "code",
   "execution_count": null,
   "id": "782ee681",
   "metadata": {
    "scrolled": true
   },
   "outputs": [],
   "source": [
    "df=pd.read_csv('movies_complete.csv',parse_dates=['release_date'])\n"
   ]
  },
  {
   "cell_type": "code",
   "execution_count": null,
   "id": "e0303564",
   "metadata": {},
   "outputs": [],
   "source": [
    "df"
   ]
  },
  {
   "cell_type": "code",
   "execution_count": null,
   "id": "a28bdb83",
   "metadata": {},
   "outputs": [],
   "source": [
    "df.info()"
   ]
  },
  {
   "cell_type": "code",
   "execution_count": null,
   "id": "d1139f49",
   "metadata": {},
   "outputs": [],
   "source": [
    "df.genres[1]"
   ]
  },
  {
   "cell_type": "code",
   "execution_count": null,
   "id": "a3e75428",
   "metadata": {},
   "outputs": [],
   "source": [
    "df.cast[1]"
   ]
  },
  {
   "cell_type": "code",
   "execution_count": null,
   "id": "67b4a310",
   "metadata": {},
   "outputs": [],
   "source": [
    "df.describe()"
   ]
  },
  {
   "cell_type": "code",
   "execution_count": null,
   "id": "2c70f8b8",
   "metadata": {},
   "outputs": [],
   "source": [
    "df.hist(figsize=(20,12),bins=100)\n",
    "plt.show()"
   ]
  },
  {
   "cell_type": "code",
   "execution_count": null,
   "id": "9a1807df",
   "metadata": {},
   "outputs": [],
   "source": [
    "df.budget_musd.value_counts(dropna=False).head(20)  #dropna means we are also including missing values"
   ]
  },
  {
   "cell_type": "code",
   "execution_count": null,
   "id": "9c1979df",
   "metadata": {},
   "outputs": [],
   "source": [
    "df.revenue_musd.value_counts(dropna=False).head(20)"
   ]
  },
  {
   "cell_type": "code",
   "execution_count": null,
   "id": "25ed4740",
   "metadata": {},
   "outputs": [],
   "source": [
    "df.vote_average.value_counts(dropna=False).head(20)"
   ]
  },
  {
   "cell_type": "code",
   "execution_count": null,
   "id": "c07b9097",
   "metadata": {},
   "outputs": [],
   "source": [
    "df.vote_count.value_counts(dropna=False)"
   ]
  },
  {
   "cell_type": "code",
   "execution_count": null,
   "id": "9fc8e02f",
   "metadata": {},
   "outputs": [],
   "source": [
    "df.describe(include='object')"
   ]
  },
  {
   "cell_type": "code",
   "execution_count": null,
   "id": "82b1bb38",
   "metadata": {},
   "outputs": [],
   "source": [
    "df[df.title==\"Cinderella\"]"
   ]
  },
  {
   "cell_type": "markdown",
   "id": "390019bc",
   "metadata": {},
   "source": [
    "__2] Filter the Dataset and find the best/worst n Movies with the__\n",
    "__Highest Revenue__\n",
    "__Highest Budget__\n",
    "__Highest Profit (=Revenue - Budget)__\n",
    "__Lowest Profit (=Revenue - Budget)__\n",
    "__Highest Return on Investment (=Revenue / Budget) (only movies with Budget >= 10)__\n",
    "__Lowest Return on Investment (=Revenue / Budget) (only movies with Budget >= 10)__\n",
    "__Highest number of Votes__\n",
    "__Highest Rating (only movies with 10 or more Ratings)__\n",
    "__Lowest Rating (only movies with 10 or more Ratings)__\n",
    "__Highest Popularity__\n",
    "__Define an appropriate user-defined function to reuse code__"
   ]
  },
  {
   "cell_type": "code",
   "execution_count": null,
   "id": "2805a118",
   "metadata": {},
   "outputs": [],
   "source": [
    "from IPython.display import HTML"
   ]
  },
  {
   "cell_type": "code",
   "execution_count": null,
   "id": "75ba3c13",
   "metadata": {},
   "outputs": [],
   "source": [
    "df_best=df[[\"poster_path\",\"title\",\"budget_musd\",\"revenue_musd\",\"vote_count\",\"vote_average\",\"popularity\"]].copy()"
   ]
  },
  {
   "cell_type": "code",
   "execution_count": null,
   "id": "81196162",
   "metadata": {},
   "outputs": [],
   "source": [
    "df_best"
   ]
  },
  {
   "cell_type": "code",
   "execution_count": null,
   "id": "3fc88de3",
   "metadata": {},
   "outputs": [],
   "source": [
    "df_best[\"profit_musd\"]=df_best[\"revenue_musd\"].sub(df_best[\"budget_musd\"])\n",
    "df_best[\"return\"]=df_best[\"revenue_musd\"].div(df_best[\"budget_musd\"])"
   ]
  },
  {
   "cell_type": "code",
   "execution_count": null,
   "id": "2a362be1",
   "metadata": {},
   "outputs": [],
   "source": [
    "df_best"
   ]
  },
  {
   "cell_type": "code",
   "execution_count": null,
   "id": "9b5a5d4c",
   "metadata": {},
   "outputs": [],
   "source": [
    "df_best.columns=[\"\",\"Title\",\"Budget\",\"Revenue\",\"Votes\",\"Average Rating\",\"Popularity\",\"Profit\",\"ROI\"]"
   ]
  },
  {
   "cell_type": "code",
   "execution_count": null,
   "id": "61e63ffd",
   "metadata": {},
   "outputs": [],
   "source": [
    "df_best\n"
   ]
  },
  {
   "cell_type": "code",
   "execution_count": null,
   "id": "8d43714a",
   "metadata": {},
   "outputs": [],
   "source": [
    "df_best.set_index(\"Title\",inplace=True)"
   ]
  },
  {
   "cell_type": "code",
   "execution_count": null,
   "id": "830b14f3",
   "metadata": {},
   "outputs": [],
   "source": [
    "df_best"
   ]
  },
  {
   "cell_type": "code",
   "execution_count": null,
   "id": "747b3bb2",
   "metadata": {},
   "outputs": [],
   "source": [
    "subset=df_best.iloc[:5,:2]\n",
    "subset"
   ]
  },
  {
   "cell_type": "code",
   "execution_count": null,
   "id": "192988b6",
   "metadata": {},
   "outputs": [],
   "source": [
    "HTML(subset.to_html(escape=False))"
   ]
  },
  {
   "cell_type": "code",
   "execution_count": null,
   "id": "c042ae4a",
   "metadata": {},
   "outputs": [],
   "source": [
    "df_best.sort_values(by='Average Rating',ascending=False)"
   ]
  },
  {
   "cell_type": "code",
   "execution_count": null,
   "id": "1fa3907b",
   "metadata": {},
   "outputs": [],
   "source": [
    "df_best.sort_values(by=\"ROI\",ascending=False)"
   ]
  },
  {
   "cell_type": "code",
   "execution_count": null,
   "id": "6b8ecb12",
   "metadata": {},
   "outputs": [],
   "source": [
    "df_best.loc[df_best[\"Budget\"]>=5].sort_values(by=\"ROI\",ascending=False)"
   ]
  },
  {
   "cell_type": "code",
   "execution_count": null,
   "id": "15dda8e4",
   "metadata": {},
   "outputs": [],
   "source": [
    "df_best.Budget.fillna(0,inplace=True) #fill missing values"
   ]
  },
  {
   "cell_type": "code",
   "execution_count": null,
   "id": "93ef3c38",
   "metadata": {},
   "outputs": [],
   "source": [
    "df_best.Revenue.fillna(0,inplace=True)"
   ]
  },
  {
   "cell_type": "code",
   "execution_count": null,
   "id": "0822bc13",
   "metadata": {},
   "outputs": [],
   "source": [
    "df_best"
   ]
  },
  {
   "cell_type": "code",
   "execution_count": null,
   "id": "156f614d",
   "metadata": {},
   "outputs": [],
   "source": [
    "df_best.info()"
   ]
  },
  {
   "cell_type": "code",
   "execution_count": null,
   "id": "8fc81468",
   "metadata": {},
   "outputs": [],
   "source": [
    "def best_worst(n,by,ascending=False,min_bud=0,min_vote=0):\n",
    "    df2=df_best.loc[(df_best[\"Budget\"]>=min_bud) & (df_best[\"Votes\"]>=min_vote),[\"\",by]].sort_values(by=by,ascending=ascending).head(n).copy()\n",
    "    return HTML(df2.to_html(escape=False))"
   ]
  },
  {
   "cell_type": "markdown",
   "id": "f298d619",
   "metadata": {},
   "source": [
    "__Movies Top 5 - Highest Revenue__"
   ]
  },
  {
   "cell_type": "code",
   "execution_count": null,
   "id": "314304dd",
   "metadata": {},
   "outputs": [],
   "source": [
    "best_worst(n=5,by=\"Revenue\")"
   ]
  },
  {
   "cell_type": "markdown",
   "id": "0266562d",
   "metadata": {},
   "source": [
    "__Movies Top 5 - Highest Budget__"
   ]
  },
  {
   "cell_type": "code",
   "execution_count": null,
   "id": "84b81b4a",
   "metadata": {},
   "outputs": [],
   "source": [
    "best_worst(n=5,by=\"Budget\")"
   ]
  },
  {
   "cell_type": "markdown",
   "id": "14face3a",
   "metadata": {},
   "source": [
    "__Movies Top 5 - Highest Profit__"
   ]
  },
  {
   "cell_type": "code",
   "execution_count": null,
   "id": "52dd60a1",
   "metadata": {},
   "outputs": [],
   "source": [
    "best_worst(n=5,by=\"Profit\")"
   ]
  },
  {
   "cell_type": "markdown",
   "id": "8c143c14",
   "metadata": {},
   "source": [
    "__Movies Top 5 - Lowest Profit__"
   ]
  },
  {
   "cell_type": "code",
   "execution_count": null,
   "id": "ee4611ae",
   "metadata": {},
   "outputs": [],
   "source": [
    "best_worst(n=5,by=\"Profit\",ascending=True)"
   ]
  },
  {
   "cell_type": "markdown",
   "id": "8ddfd6c3",
   "metadata": {},
   "source": [
    "__Movies Top 5 - Highest ROI__"
   ]
  },
  {
   "cell_type": "code",
   "execution_count": null,
   "id": "fd9fbc21",
   "metadata": {},
   "outputs": [],
   "source": [
    "best_worst(n=5,by=\"ROI\",min_bud=50)"
   ]
  },
  {
   "cell_type": "markdown",
   "id": "987b3c06",
   "metadata": {},
   "source": [
    "__Movies Top 5 - Lowest ROI__"
   ]
  },
  {
   "cell_type": "code",
   "execution_count": null,
   "id": "832cf3ac",
   "metadata": {},
   "outputs": [],
   "source": [
    "best_worst(n=5,by=\"ROI\",ascending=True,min_bud=100)"
   ]
  },
  {
   "cell_type": "markdown",
   "id": "4c7850b7",
   "metadata": {},
   "source": [
    "__Movies Top 5 - Most Votes__"
   ]
  },
  {
   "cell_type": "code",
   "execution_count": null,
   "id": "a11cf128",
   "metadata": {},
   "outputs": [],
   "source": [
    "best_worst(n=5,by=\"Votes\")"
   ]
  },
  {
   "cell_type": "markdown",
   "id": "e0f9c062",
   "metadata": {},
   "source": [
    "__Movies Top 5 - Highest Rating__"
   ]
  },
  {
   "cell_type": "code",
   "execution_count": null,
   "id": "299a5644",
   "metadata": {},
   "outputs": [],
   "source": [
    "best_worst(n=5,by=\"Average Rating\",min_vote=50)"
   ]
  },
  {
   "cell_type": "markdown",
   "id": "e912ea2a",
   "metadata": {},
   "source": [
    "__Movies Top 5 - Lowest Rating__"
   ]
  },
  {
   "cell_type": "code",
   "execution_count": null,
   "id": "cdc58242",
   "metadata": {},
   "outputs": [],
   "source": [
    "best_worst(n=5,by=\"Average Rating\",ascending=True,min_vote=100)"
   ]
  },
  {
   "cell_type": "code",
   "execution_count": null,
   "id": "7ab29f5f",
   "metadata": {},
   "outputs": [],
   "source": [
    "best_worst(n=5,by=\"Average Rating\",ascending=True,min_vote=20,min_bud=20)"
   ]
  },
  {
   "cell_type": "markdown",
   "id": "2366cd58",
   "metadata": {},
   "source": [
    "__Movies Top 5 - Most Popular__"
   ]
  },
  {
   "cell_type": "code",
   "execution_count": null,
   "id": "df9b4ece",
   "metadata": {},
   "outputs": [],
   "source": [
    "best_worst(n=5,by=\"Popularity\")"
   ]
  },
  {
   "cell_type": "markdown",
   "id": "de4eda73",
   "metadata": {},
   "source": [
    "## Find your next Movie"
   ]
  },
  {
   "cell_type": "markdown",
   "id": "ce3fff6f",
   "metadata": {},
   "source": [
    "3. __Filter__ the Dataset for movies that meet the following conditions:"
   ]
  },
  {
   "cell_type": "markdown",
   "id": "1c9821ec",
   "metadata": {},
   "source": [
    "__Search 1: Science Fiction Action Movie with Bruce Willis (sorted from high to low Rating)__"
   ]
  },
  {
   "cell_type": "code",
   "execution_count": null,
   "id": "f276dbdf",
   "metadata": {},
   "outputs": [],
   "source": [
    "df[\"genres\"][0]"
   ]
  },
  {
   "cell_type": "code",
   "execution_count": null,
   "id": "ee2eba7d",
   "metadata": {},
   "outputs": [],
   "source": [
    "mask_genres=df[\"genres\"].str.contains(\"Action\") & df[\"genres\"].str.contains(\"Science Fiction\")\n",
    "mask_genres"
   ]
  },
  {
   "cell_type": "code",
   "execution_count": null,
   "id": "ab43d467",
   "metadata": {},
   "outputs": [],
   "source": [
    "df[\"cast\"][0]"
   ]
  },
  {
   "cell_type": "code",
   "execution_count": null,
   "id": "d596d304",
   "metadata": {},
   "outputs": [],
   "source": [
    "mask_actor=df[\"cast\"].str.contains(\"Bruce Willis\")\n",
    "mask_actor"
   ]
  },
  {
   "cell_type": "code",
   "execution_count": null,
   "id": "8d0284e2",
   "metadata": {},
   "outputs": [],
   "source": [
    "df.loc[mask_actor & mask_genres,[\"title\",\"vote_average\"]].sort_values(by=\"vote_average\",ascending=False)"
   ]
  },
  {
   "cell_type": "code",
   "execution_count": null,
   "id": "88fefaa9",
   "metadata": {},
   "outputs": [],
   "source": [
    "bruce=df.loc[mask_actor & mask_genres,[\"title\",\"poster_path\",\"vote_average\"]].sort_values(by=\"vote_average\",ascending=False)\n",
    "bruce"
   ]
  },
  {
   "cell_type": "code",
   "execution_count": null,
   "id": "6151f5e6",
   "metadata": {},
   "outputs": [],
   "source": [
    "HTML(bruce.to_html(escape=False))"
   ]
  },
  {
   "cell_type": "markdown",
   "id": "e731af5f",
   "metadata": {},
   "source": [
    "__Search 2: Movies with Uma Thurman and directed by Quentin Tarantino (sorted from short to long runtime)__"
   ]
  },
  {
   "cell_type": "code",
   "execution_count": null,
   "id": "80145ff8",
   "metadata": {},
   "outputs": [],
   "source": [
    "df[\"director\"]"
   ]
  },
  {
   "cell_type": "code",
   "execution_count": null,
   "id": "05a394af",
   "metadata": {},
   "outputs": [],
   "source": [
    "mask_director=df[\"director\"]==\"Quentin Tarantino\"\n",
    "mask_director"
   ]
  },
  {
   "cell_type": "code",
   "execution_count": null,
   "id": "c4a37f64",
   "metadata": {},
   "outputs": [],
   "source": [
    "mask_actor=df[\"cast\"]==\"Uma Thurman\"\n",
    "mask_actor"
   ]
  },
  {
   "cell_type": "code",
   "execution_count": null,
   "id": "5b511b1c",
   "metadata": {},
   "outputs": [],
   "source": [
    "quentin=df.loc[mask_director & mask_actor,[\"title\",\"poster_path\",\"runtime\"]].sort_values(by=\"runtime\").set_index(\"title\")\n",
    "quentin"
   ]
  },
  {
   "cell_type": "code",
   "execution_count": null,
   "id": "ecfb3f01",
   "metadata": {},
   "outputs": [],
   "source": [
    "HTML(quentin.to_html(escape=False))"
   ]
  },
  {
   "cell_type": "markdown",
   "id": "c5606edc",
   "metadata": {},
   "source": [
    "__Search 3: Most Successful Pixar Studio Movies between 2010 and 2015 (sorted from high to low Revenue)__"
   ]
  },
  {
   "cell_type": "code",
   "execution_count": null,
   "id": "5428838d",
   "metadata": {},
   "outputs": [],
   "source": [
    "df[\"production_companies\"][1]"
   ]
  },
  {
   "cell_type": "code",
   "execution_count": null,
   "id": "ea1a50ad",
   "metadata": {},
   "outputs": [],
   "source": [
    "mask_studio=df[\"production_companies\"].str.contains(\"Pixar\").fillna(True)\n",
    "mask_studio"
   ]
  },
  {
   "cell_type": "code",
   "execution_count": null,
   "id": "78384884",
   "metadata": {},
   "outputs": [],
   "source": [
    "df[\"release_date\"]"
   ]
  },
  {
   "cell_type": "code",
   "execution_count": null,
   "id": "e30cb3e0",
   "metadata": {},
   "outputs": [],
   "source": [
    "mask_date=df[\"release_date\"].between(\"2010-01-01\",\"2014-12-31\")\n",
    "mask_date"
   ]
  },
  {
   "cell_type": "code",
   "execution_count": null,
   "id": "72040a36",
   "metadata": {
    "scrolled": true
   },
   "outputs": [],
   "source": [
    "pixer=df.loc[mask_studio & mask_date,[\"title\",\"poster_path\",\"revenue_musd\",\"release_date\"]].sort_values(by=\"revenue_musd\",ascending=False).set_index(\"title\")\n",
    "pixer"
   ]
  },
  {
   "cell_type": "code",
   "execution_count": null,
   "id": "42c1fd56",
   "metadata": {},
   "outputs": [],
   "source": [
    "HTML(pixer.to_html(escape=False))"
   ]
  },
  {
   "cell_type": "markdown",
   "id": "b30bfc9f",
   "metadata": {},
   "source": [
    "__Search 4: Action or Thriller Movie with original language English and minimum Rating of 7.5 (most recent movies first)__"
   ]
  },
  {
   "cell_type": "code",
   "execution_count": null,
   "id": "bc08741f",
   "metadata": {},
   "outputs": [],
   "source": [
    "mask_genre=df[\"genres\"].str.contains(\"Action\") | df[\"genres\"].str.contains(\"Thriller\")\n",
    "mask_genre"
   ]
  },
  {
   "cell_type": "code",
   "execution_count": null,
   "id": "acb4b19d",
   "metadata": {},
   "outputs": [],
   "source": [
    "mask_lan=df[\"original_language\"]==\"en\"\n",
    "mask_lan"
   ]
  },
  {
   "cell_type": "code",
   "execution_count": null,
   "id": "eaf71844",
   "metadata": {},
   "outputs": [],
   "source": [
    "mask_vote_av=df[\"vote_average\"]>=7.5\n",
    "mask_vote_av"
   ]
  },
  {
   "cell_type": "code",
   "execution_count": null,
   "id": "e2ad351c",
   "metadata": {},
   "outputs": [],
   "source": [
    "mask_vote_co=df[\"vote_count\"]>=10\n",
    "mask_vote_co"
   ]
  },
  {
   "cell_type": "code",
   "execution_count": null,
   "id": "d3a4dfdb",
   "metadata": {},
   "outputs": [],
   "source": [
    "next_mov=df.loc[mask_genre & mask_lan & mask_vote_av & mask_vote_co,[\"title\",\"poster_path\",\"genres\",\"vote_average\",\"vote_count\",\"release_date\"]].sort_values(by=\"release_date\",ascending=False).set_index(\"title\").head(20)\n",
    "next_mov"
   ]
  },
  {
   "cell_type": "code",
   "execution_count": null,
   "id": "76e58df6",
   "metadata": {},
   "outputs": [],
   "source": [
    "HTML(next_mov.to_html(escape=False))"
   ]
  },
  {
   "cell_type": "markdown",
   "id": "24299927",
   "metadata": {},
   "source": [
    "__what are the most common words in movies, title and tagline?__"
   ]
  },
  {
   "cell_type": "code",
   "execution_count": null,
   "id": "e30cf48b",
   "metadata": {},
   "outputs": [],
   "source": [
    "# first install wordcloud in anaconda prompt\n",
    "# pip install wordcloud\n",
    "from wordcloud import WordCloud"
   ]
  },
  {
   "cell_type": "code",
   "execution_count": null,
   "id": "14545b59",
   "metadata": {},
   "outputs": [],
   "source": [
    "df[\"tagline\"][1]"
   ]
  },
  {
   "cell_type": "code",
   "execution_count": null,
   "id": "b1d08302",
   "metadata": {},
   "outputs": [],
   "source": [
    "df[\"overview\"][1]"
   ]
  },
  {
   "cell_type": "code",
   "execution_count": null,
   "id": "2a634d9e",
   "metadata": {},
   "outputs": [],
   "source": [
    "title=df.title.dropna() \n",
    "overview=df.overview.dropna()\n",
    "tagline=df.tagline.dropna()"
   ]
  },
  {
   "cell_type": "code",
   "execution_count": null,
   "id": "a62ec01b",
   "metadata": {},
   "outputs": [],
   "source": [
    "title"
   ]
  },
  {
   "cell_type": "code",
   "execution_count": null,
   "id": "4c09186b",
   "metadata": {},
   "outputs": [],
   "source": [
    "' '.join(title)"
   ]
  },
  {
   "cell_type": "code",
   "execution_count": null,
   "id": "bb438f10",
   "metadata": {},
   "outputs": [],
   "source": [
    "title_corpus=' '.join(title)\n",
    "overview_corpus=' '.join(overview)\n",
    "tagline_corpus=' '.join(tagline)"
   ]
  },
  {
   "cell_type": "code",
   "execution_count": null,
   "id": "33761c12",
   "metadata": {},
   "outputs": [],
   "source": [
    "tagline_corpus"
   ]
  },
  {
   "cell_type": "code",
   "execution_count": null,
   "id": "64a1cffa",
   "metadata": {},
   "outputs": [],
   "source": [
    "title_wordcloud=WordCloud(background_color=\"white\",height=2000,width=4000,max_words=200).generate(title_corpus)\n",
    "title_wordcloud"
   ]
  },
  {
   "cell_type": "code",
   "execution_count": null,
   "id": "b7a6c8be",
   "metadata": {},
   "outputs": [],
   "source": [
    "plt.figure(figsize=(16,8))\n",
    "plt.imshow(title_wordcloud,interpolation=\"bilinear\")\n",
    "plt.axis('off')\n",
    "plt.show()"
   ]
  },
  {
   "cell_type": "code",
   "execution_count": null,
   "id": "a2fbde26",
   "metadata": {},
   "outputs": [],
   "source": [
    "tagline_wordcloud=WordCloud(background_color='White',height=2000,width=4000).generate(tagline_corpus)\n",
    "plt.figure(figsize=(16,8))\n",
    "plt.imshow(tagline_wordcloud,interpolation=\"bilinear\")\n",
    "plt.axis(\"off\")\n",
    "plt.show()"
   ]
  },
  {
   "cell_type": "code",
   "execution_count": null,
   "id": "78ef5420",
   "metadata": {},
   "outputs": [],
   "source": [
    "overview_wordcloud=WordCloud(background_color=\"White\",height=2000,width=4000).generate(overview_corpus)\n",
    "plt.figure(figsize=(16,8))\n",
    "plt.imshow(overview_wordcloud,interpolation=\"bilinear\")\n",
    "plt.axis(\"off\")\n",
    "plt.show()"
   ]
  },
  {
   "cell_type": "markdown",
   "id": "3444afad",
   "metadata": {},
   "source": [
    "## Are Franchises more successful?"
   ]
  },
  {
   "cell_type": "markdown",
   "id": "e308363a",
   "metadata": {},
   "source": [
    "4. __Analyze__ the Dataset and __find out whether Franchises (Movies that belong to a collection) are more successful than stand-alone movies__ in terms of:"
   ]
  },
  {
   "cell_type": "markdown",
   "id": "33a0d0cb",
   "metadata": {},
   "source": [
    "- mean revenue\n",
    "- median Return on Investment\n",
    "- mean budget raised\n",
    "- mean popularity\n",
    "- mean rating"
   ]
  },
  {
   "cell_type": "code",
   "execution_count": null,
   "id": "0b22c31d",
   "metadata": {},
   "outputs": [],
   "source": [
    "df[\"belongs_to_collection\"]"
   ]
  },
  {
   "cell_type": "code",
   "execution_count": null,
   "id": "166a6061",
   "metadata": {},
   "outputs": [],
   "source": [
    "df[\"franchise\"]=df[\"belongs_to_collection\"].notna()  #finds whether movie belongs to collection or not"
   ]
  },
  {
   "cell_type": "code",
   "execution_count": null,
   "id": "71841391",
   "metadata": {},
   "outputs": [],
   "source": [
    "df[\"franchise\"]"
   ]
  },
  {
   "cell_type": "code",
   "execution_count": null,
   "id": "69811965",
   "metadata": {},
   "outputs": [],
   "source": [
    "df[\"franchise\"].value_counts() \n",
    "# False means movies belong to standalone(non-franchise), True means movies belong to franchise"
   ]
  },
  {
   "cell_type": "markdown",
   "id": "41b93fca",
   "metadata": {},
   "source": [
    "__Franchise vs. Stand-alone: Average Revenue__"
   ]
  },
  {
   "cell_type": "code",
   "execution_count": null,
   "id": "286b845b",
   "metadata": {},
   "outputs": [],
   "source": [
    "df.groupby(\"franchise\").revenue_musd.mean()"
   ]
  },
  {
   "cell_type": "markdown",
   "id": "8f039a99",
   "metadata": {},
   "source": [
    "__Franchise vs. Stand-alone: Return on Investment / Profitability (median)__"
   ]
  },
  {
   "cell_type": "code",
   "execution_count": null,
   "id": "9d61a451",
   "metadata": {},
   "outputs": [],
   "source": [
    "df[\"ROI\"]=df.revenue_musd.div(df.budget_musd)"
   ]
  },
  {
   "cell_type": "code",
   "execution_count": null,
   "id": "6c668316",
   "metadata": {},
   "outputs": [],
   "source": [
    "df.groupby(\"franchise\").ROI.median()"
   ]
  },
  {
   "cell_type": "markdown",
   "id": "a92bb5bc",
   "metadata": {},
   "source": [
    "__Franchise vs. Stand-alone: Average Budget__"
   ]
  },
  {
   "cell_type": "code",
   "execution_count": null,
   "id": "25025ecf",
   "metadata": {},
   "outputs": [],
   "source": [
    "df.groupby(\"franchise\").budget_musd.mean()"
   ]
  },
  {
   "cell_type": "markdown",
   "id": "f3d3becb",
   "metadata": {},
   "source": [
    "__Franchise vs. Stand-alone: Average Popularity__"
   ]
  },
  {
   "cell_type": "code",
   "execution_count": null,
   "id": "e01ecc91",
   "metadata": {},
   "outputs": [],
   "source": [
    "df.groupby(\"franchise\").popularity.mean()"
   ]
  },
  {
   "cell_type": "markdown",
   "id": "51451bd9",
   "metadata": {},
   "source": [
    "__Franchise vs. Stand-alone: Average Rating__"
   ]
  },
  {
   "cell_type": "code",
   "execution_count": null,
   "id": "bb6df785",
   "metadata": {},
   "outputs": [],
   "source": [
    "df.groupby(\"franchise\").vote_average.mean()"
   ]
  },
  {
   "cell_type": "code",
   "execution_count": null,
   "id": "de7ff081",
   "metadata": {},
   "outputs": [],
   "source": [
    "df.groupby(\"franchise\").agg({\"budget_musd\":\"mean\",\"revenue_musd\":\"mean\",\"vote_average\":\"mean\",\"popularity\":\"mean\",\"ROI\":\"median\",\"vote_count\":\"mean\"})"
   ]
  },
  {
   "cell_type": "markdown",
   "id": "e0792e15",
   "metadata": {},
   "source": [
    "## Most Successful Franchises"
   ]
  },
  {
   "cell_type": "markdown",
   "id": "7e9ca088",
   "metadata": {},
   "source": [
    "5. __Find__ the __most successful Franchises__ in terms of"
   ]
  },
  {
   "cell_type": "markdown",
   "id": "2c19da91",
   "metadata": {},
   "source": [
    "- __total number of movies__\n",
    "- __total & mean budget__\n",
    "- __total & mean revenue__\n",
    "- __mean rating__"
   ]
  },
  {
   "cell_type": "code",
   "execution_count": null,
   "id": "ea60c0a3",
   "metadata": {},
   "outputs": [],
   "source": [
    "df[\"belongs_to_collection\"]"
   ]
  },
  {
   "cell_type": "code",
   "execution_count": null,
   "id": "37ab7f97",
   "metadata": {},
   "outputs": [],
   "source": [
    "df[\"belongs_to_collection\"].value_counts() #counts the no of movies in a collection"
   ]
  },
  {
   "cell_type": "code",
   "execution_count": null,
   "id": "4e174dcf",
   "metadata": {},
   "outputs": [],
   "source": [
    "franchises=df.groupby(\"belongs_to_collection\").agg({\"title\":\"count\",\"budget_musd\":[\"sum\",\"mean\"],\"revenue_musd\":[\"sum\",\"mean\"],\"vote_average\":\"mean\",\"popularity\":\"mean\",\"ROI\":\"median\",\"vote_count\":\"mean\"})\n"
   ]
  },
  {
   "cell_type": "code",
   "execution_count": null,
   "id": "42a7e322",
   "metadata": {},
   "outputs": [],
   "source": [
    "franchises"
   ]
  },
  {
   "cell_type": "code",
   "execution_count": null,
   "id": "799c0fef",
   "metadata": {},
   "outputs": [],
   "source": [
    "franchises.nlargest(20,(\"title\",\"count\"))  #finds collection which has title count value in top 20 \n"
   ]
  },
  {
   "cell_type": "code",
   "execution_count": null,
   "id": "de47a767",
   "metadata": {},
   "outputs": [],
   "source": [
    "franchises.nlargest(20,(\"revenue_musd\",\"sum\"))"
   ]
  },
  {
   "cell_type": "code",
   "execution_count": null,
   "id": "92b8de74",
   "metadata": {},
   "outputs": [],
   "source": [
    "franchises.nlargest(20,(\"revenue_musd\",\"mean\"))"
   ]
  },
  {
   "cell_type": "code",
   "execution_count": null,
   "id": "b6e6fd67",
   "metadata": {},
   "outputs": [],
   "source": [
    "franchises.nlargest(20,(\"budget_musd\",\"sum\"))"
   ]
  },
  {
   "cell_type": "code",
   "execution_count": null,
   "id": "8ef715ef",
   "metadata": {},
   "outputs": [],
   "source": [
    "franchises.nlargest(20,(\"budget_musd\",\"mean\"))"
   ]
  },
  {
   "cell_type": "code",
   "execution_count": null,
   "id": "35ec8d7c",
   "metadata": {},
   "outputs": [],
   "source": [
    "franchises[franchises[(\"vote_count\",\"mean\")]>=1000].nlargest(20,(\"vote_average\",\"mean\"))"
   ]
  },
  {
   "cell_type": "markdown",
   "id": "98676504",
   "metadata": {},
   "source": [
    "## Most Successful Directors"
   ]
  },
  {
   "cell_type": "markdown",
   "id": "1dd548f0",
   "metadata": {},
   "source": [
    "6. __Find__ the __most successful Directors__ in terms of"
   ]
  },
  {
   "cell_type": "markdown",
   "id": "4d1cbd25",
   "metadata": {},
   "source": [
    "- __total number of movies__\n",
    "- __total revenue__\n",
    "- __mean rating__"
   ]
  },
  {
   "cell_type": "code",
   "execution_count": null,
   "id": "9631c457",
   "metadata": {},
   "outputs": [],
   "source": [
    "df[\"director\"]"
   ]
  },
  {
   "cell_type": "code",
   "execution_count": null,
   "id": "1e1fcc32",
   "metadata": {},
   "outputs": [],
   "source": [
    "df.director.value_counts().head(20)  #total no of movies for each and every director "
   ]
  },
  {
   "cell_type": "code",
   "execution_count": null,
   "id": "1f306579",
   "metadata": {},
   "outputs": [],
   "source": [
    "plt.figure(figsize=(12,8))\n",
    "df.director.value_counts().head(20).plot(kind=\"bar\",fontsize=15)\n",
    "plt.title(\"Most Active Directors\",fontsize=20)\n",
    "plt.ylabel(\"No of movies\",fontsize=15)\n",
    "plt.show()"
   ]
  },
  {
   "cell_type": "code",
   "execution_count": null,
   "id": "cc390aad",
   "metadata": {},
   "outputs": [],
   "source": [
    "df.groupby(\"director\").revenue_musd.sum().nlargest(20) #group director and find revenue for each director grouped"
   ]
  },
  {
   "cell_type": "code",
   "execution_count": null,
   "id": "b630528e",
   "metadata": {},
   "outputs": [],
   "source": [
    "plt.figure(figsize=(12,8))\n",
    "df.groupby(\"director\").revenue_musd.sum().nlargest(20).plot(kind=\"bar\",fontsize=20)\n",
    "plt.title(\"Total Revenue\",fontsize=20)\n",
    "plt.ylabel(\"Revenue (in musd)\",fontsize=20)\n",
    "plt.show()"
   ]
  },
  {
   "cell_type": "code",
   "execution_count": null,
   "id": "6f970c96",
   "metadata": {},
   "outputs": [],
   "source": [
    "dire=df.groupby(\"director\").agg({\"title\":\"count\",\"vote_average\":\"mean\",\"vote_count\":\"sum\"})"
   ]
  },
  {
   "cell_type": "code",
   "execution_count": null,
   "id": "27c3dc82",
   "metadata": {},
   "outputs": [],
   "source": [
    "dire"
   ]
  },
  {
   "cell_type": "code",
   "execution_count": null,
   "id": "f742e55f",
   "metadata": {},
   "outputs": [],
   "source": [
    "dire[(dire.vote_count>=10000) & (dire.title>=10)].nlargest(20,\"vote_average\")"
   ]
  },
  {
   "cell_type": "code",
   "execution_count": null,
   "id": "b6a784df",
   "metadata": {},
   "outputs": [],
   "source": [
    "df[\"genres\"]=df[\"genres\"].astype(str) #converts all elements including NaN to string"
   ]
  },
  {
   "cell_type": "code",
   "execution_count": null,
   "id": "862e5330",
   "metadata": {},
   "outputs": [],
   "source": [
    "df.loc[df.genres.str.contains(\"Horror\")] #filter all horror movies"
   ]
  },
  {
   "cell_type": "code",
   "execution_count": null,
   "id": "059f5ada",
   "metadata": {},
   "outputs": [],
   "source": [
    "#find successfull director by genres such as Horror\n",
    "# group the horror movie by director and keep the revenue for each director\n",
    "df.loc[df.genres.str.contains(\"Horror\")].groupby(\"director\").revenue_musd.sum().nlargest(20)"
   ]
  },
  {
   "cell_type": "markdown",
   "id": "dbfa9eb9",
   "metadata": {},
   "source": [
    "## Most succesful actors"
   ]
  },
  {
   "cell_type": "code",
   "execution_count": null,
   "id": "e6543d25",
   "metadata": {},
   "outputs": [],
   "source": [
    "df.cast"
   ]
  },
  {
   "cell_type": "code",
   "execution_count": null,
   "id": "1a507575",
   "metadata": {},
   "outputs": [],
   "source": [
    "df.set_index(\"id\",inplace=True)"
   ]
  },
  {
   "cell_type": "code",
   "execution_count": null,
   "id": "17b1d989",
   "metadata": {},
   "outputs": [],
   "source": [
    "df.info()"
   ]
  },
  {
   "cell_type": "code",
   "execution_count": null,
   "id": "9dfea030",
   "metadata": {},
   "outputs": [],
   "source": [
    "df.cast.str.split(\"|\")"
   ]
  },
  {
   "cell_type": "code",
   "execution_count": null,
   "id": "8e5872b3",
   "metadata": {},
   "outputs": [],
   "source": [
    "#expand=True will put the splitted string of cast column(actors) in new separate columns\n",
    "act=df.cast.str.split(\"|\",expand=True)\n",
    "act\n",
    "#one movie has 312 actors so 313 columns"
   ]
  },
  {
   "cell_type": "code",
   "execution_count": null,
   "id": "570db346",
   "metadata": {},
   "outputs": [],
   "source": [
    "#stack the presecribes levels from column to index\n",
    "act.stack()  #it has created multiindex ie another index for all actors including id "
   ]
  },
  {
   "cell_type": "code",
   "execution_count": null,
   "id": "c060750d",
   "metadata": {},
   "outputs": [],
   "source": [
    "#reset_index we want to drop at level position 1 \n",
    "#column id is at level position 0 --> we have removed the innder id column ie level position=1\n",
    "act.stack().reset_index(level=1,drop=True)"
   ]
  },
  {
   "cell_type": "code",
   "execution_count": null,
   "id": "f1d015c4",
   "metadata": {},
   "outputs": [],
   "source": [
    "#to_frame() converts it into pandas series dataframe\n",
    "act.stack().reset_index(level=1,drop=True).to_frame()"
   ]
  },
  {
   "cell_type": "code",
   "execution_count": null,
   "id": "ca487f51",
   "metadata": {},
   "outputs": [],
   "source": [
    "act=act.stack().reset_index(level=1,drop=True).to_frame()\n",
    "act  #on average, each and every movie has more than 10 actors"
   ]
  },
  {
   "cell_type": "code",
   "execution_count": null,
   "id": "bcb58295",
   "metadata": {},
   "outputs": [],
   "source": [
    "#rename the column label from 0 to actor\n",
    "act.columns=[\"Actor\"]"
   ]
  },
  {
   "cell_type": "code",
   "execution_count": null,
   "id": "ca8c94fb",
   "metadata": {},
   "outputs": [],
   "source": [
    "act"
   ]
  },
  {
   "cell_type": "code",
   "execution_count": null,
   "id": "1309026e",
   "metadata": {},
   "outputs": [],
   "source": [
    "act=act.merge(df[[\"title\",\"revenue_musd\",\"vote_average\",\"popularity\"]],how=\"left\",left_index=True,right_index=True)\n",
    "#similar to vlookup in excel\n",
    "#how=\"left\" indicates we want left join or left merge\n",
    "#movie id is a index in both dataframe ie act and df and we want to join both, so left_index and right_index both are True"
   ]
  },
  {
   "cell_type": "code",
   "execution_count": null,
   "id": "61566218",
   "metadata": {},
   "outputs": [],
   "source": [
    "act\n",
    "#for each and every actor, we have one row belonging to that actor and movie id \n",
    "# previously all actors were places in single row of that movie id "
   ]
  },
  {
   "cell_type": "markdown",
   "id": "4e4220f2",
   "metadata": {},
   "source": [
    "## Most successful actors"
   ]
  },
  {
   "cell_type": "code",
   "execution_count": null,
   "id": "0fdfa395",
   "metadata": {},
   "outputs": [],
   "source": [
    "act"
   ]
  },
  {
   "cell_type": "code",
   "execution_count": null,
   "id": "74e42b90",
   "metadata": {},
   "outputs": [],
   "source": [
    "act.Actor.nunique()"
   ]
  },
  {
   "cell_type": "code",
   "execution_count": null,
   "id": "a545f941",
   "metadata": {},
   "outputs": [],
   "source": [
    "act.Actor.unique()  #create an array of all unique actors"
   ]
  },
  {
   "cell_type": "code",
   "execution_count": null,
   "id": "6be61063",
   "metadata": {},
   "outputs": [],
   "source": [
    "# most active actors\n",
    "act.Actor.value_counts().head(20)"
   ]
  },
  {
   "cell_type": "code",
   "execution_count": null,
   "id": "79fd67dd",
   "metadata": {},
   "outputs": [],
   "source": [
    "plt.figure(figsize=(12,6))\n",
    "act.Actor.value_counts().head(20).plot(kind=\"bar\",fontsize=15)\n",
    "plt.title(\"Most active actors\",fontsize=20)\n",
    "plt.ylabel(\"Number of movies\",fontsize=15)\n",
    "plt.show()"
   ]
  },
  {
   "cell_type": "code",
   "execution_count": null,
   "id": "131970a6",
   "metadata": {
    "scrolled": true
   },
   "outputs": [],
   "source": [
    "agg=act.groupby(\"Actor\").agg(Total_Revenue=(\"revenue_musd\",\"sum\"),Mean_Revenue=(\"revenue_musd\",\"mean\"),Mean_Rating=(\"vote_average\",\"mean\"),Mean_Pop=(\"popularity\",\"mean\"),Total_Movies=(\"Actor\",\"count\"))"
   ]
  },
  {
   "cell_type": "code",
   "execution_count": null,
   "id": "dea12957",
   "metadata": {},
   "outputs": [],
   "source": [
    "agg"
   ]
  },
  {
   "cell_type": "code",
   "execution_count": null,
   "id": "56939762",
   "metadata": {},
   "outputs": [],
   "source": [
    "agg.nlargest(10,\"Total_Movies\")  #10 most active actors"
   ]
  },
  {
   "cell_type": "code",
   "execution_count": null,
   "id": "336f7f0e",
   "metadata": {},
   "outputs": [],
   "source": [
    "#actors with highest total revenue \n",
    "agg.nlargest(10,\"Total_Revenue\")"
   ]
  },
  {
   "cell_type": "code",
   "execution_count": null,
   "id": "64481e3a",
   "metadata": {},
   "outputs": [],
   "source": [
    "plt.figure(figsize=(12,8))\n",
    "agg[\"Total_Revenue\"].nlargest(10).plot(kind=\"bar\",fontsize=15)\n",
    "plt.title(\"Total Revenue\",fontsize=20)\n",
    "plt.ylabel(\"Revenue(in MUSD)\",fontsize=15)\n",
    "plt.show()"
   ]
  },
  {
   "cell_type": "code",
   "execution_count": null,
   "id": "1cfdac5d",
   "metadata": {},
   "outputs": [],
   "source": [
    "agg[\"Mean_Revenue\"].nlargest(20)"
   ]
  },
  {
   "cell_type": "code",
   "execution_count": null,
   "id": "0f843a42",
   "metadata": {},
   "outputs": [],
   "source": [
    "act[act[\"Actor\"]==\"Ashley Jeffery\"]"
   ]
  },
  {
   "cell_type": "code",
   "execution_count": null,
   "id": "44c65a85",
   "metadata": {},
   "outputs": [],
   "source": [
    "#select those actors who acted in atleast more than 10 movies\n",
    "agg[agg[\"Total_Movies\"]>=10].nlargest(10,\"Mean_Revenue\")"
   ]
  },
  {
   "cell_type": "code",
   "execution_count": null,
   "id": "c613aad0",
   "metadata": {
    "scrolled": true
   },
   "outputs": [],
   "source": [
    "agg[agg[\"Total_Movies\"]>=10].nlargest(10,\"Mean_Rating\")"
   ]
  },
  {
   "cell_type": "code",
   "execution_count": null,
   "id": "129dcd77",
   "metadata": {},
   "outputs": [],
   "source": [
    "agg[agg[\"Total_Movies\"]>=10].nlargest(10,\"Mean_Pop\")"
   ]
  },
  {
   "cell_type": "code",
   "execution_count": null,
   "id": "7f7485e3",
   "metadata": {},
   "outputs": [],
   "source": []
  }
 ],
 "metadata": {
  "kernelspec": {
   "display_name": "Python 3 (ipykernel)",
   "language": "python",
   "name": "python3"
  },
  "language_info": {
   "codemirror_mode": {
    "name": "ipython",
    "version": 3
   },
   "file_extension": ".py",
   "mimetype": "text/x-python",
   "name": "python",
   "nbconvert_exporter": "python",
   "pygments_lexer": "ipython3",
   "version": "3.9.12"
  }
 },
 "nbformat": 4,
 "nbformat_minor": 5
}
