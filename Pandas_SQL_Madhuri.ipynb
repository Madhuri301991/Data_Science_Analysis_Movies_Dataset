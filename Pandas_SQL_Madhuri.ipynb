{
 "cells": [
  {
   "cell_type": "markdown",
   "id": "e8385908",
   "metadata": {},
   "source": [
    "# Working with Pandas and SQL Databases (Movies Dataset)"
   ]
  },
  {
   "cell_type": "markdown",
   "id": "eacb38f9",
   "metadata": {},
   "source": [
    "## Creating an SQLite Database"
   ]
  },
  {
   "cell_type": "markdown",
   "id": "ed2a6c58",
   "metadata": {},
   "source": [
    "1. __Import__ sqlite3 (as sq3) and __create__ a new SQLite Database with the name __\"movies.db\"__."
   ]
  },
  {
   "cell_type": "code",
   "execution_count": null,
   "id": "b4358ced",
   "metadata": {},
   "outputs": [],
   "source": [
    "import pandas as pd\n",
    "import json\n",
    "import sqlite3 as sq3"
   ]
  },
  {
   "cell_type": "code",
   "execution_count": null,
   "id": "2e048159",
   "metadata": {},
   "outputs": [],
   "source": [
    "#connect to the already exisitng movies\n",
    "#if database doesnt exist, it will create a new database with the name \"movies.db\"\n",
    "#also creates a connection to the database\n",
    "\n",
    "con=sq3.connect(\"movies.db\")\n",
    "#movies.db gets added to the jupiter screen"
   ]
  },
  {
   "cell_type": "code",
   "execution_count": null,
   "id": "96195b40",
   "metadata": {},
   "outputs": [],
   "source": [
    "con"
   ]
  },
  {
   "cell_type": "code",
   "execution_count": null,
   "id": "d27c458d",
   "metadata": {},
   "outputs": [],
   "source": [
    "con.execute(\"select * from sqlite_master\").fetchall()"
   ]
  },
  {
   "cell_type": "code",
   "execution_count": null,
   "id": "417ded03",
   "metadata": {},
   "outputs": [],
   "source": [
    "con.execute(\"select name from sqlite_master where type='table' order by name\").fetchall()"
   ]
  },
  {
   "cell_type": "code",
   "execution_count": null,
   "id": "2cbbcd60",
   "metadata": {},
   "outputs": [],
   "source": [
    "con.close()"
   ]
  },
  {
   "cell_type": "markdown",
   "id": "7367a9ea",
   "metadata": {},
   "source": [
    "## Loading Data from DataFrames into an SQLite Database"
   ]
  },
  {
   "cell_type": "markdown",
   "id": "c69d5edb",
   "metadata": {},
   "source": [
    "2. __Load__ the json file __\"some_movies.json\"__ and __split__ the dataset into the following __four datasets__ (save each dataset in a Pandas DataFrame)."
   ]
  },
  {
   "cell_type": "markdown",
   "id": "0922251d",
   "metadata": {},
   "source": [
    "__Dataset #1 (Movies)__ with columns [\"id\", \"title\", \"revenue\", \"budget\", \"belongs_to_collection_name\", \"release_date\"]. <br>\n",
    "Convert \"release_date\" to datetime and transform \"budget\" and \"revenue\" to Million USD before loading into the Database. "
   ]
  },
  {
   "cell_type": "markdown",
   "id": "36f07a53",
   "metadata": {},
   "source": [
    "__Dataset #2 (Votes)__ with columns [\"id\", \"vote_count\", \"vote_average\"]. "
   ]
  },
  {
   "cell_type": "markdown",
   "id": "c86e4d13",
   "metadata": {},
   "source": [
    "__Dataset #3 (Genres)__ with columns [\"genre_id\", \"genre_name\", \"id\"]. <br> "
   ]
  },
  {
   "cell_type": "markdown",
   "id": "d4e9308b",
   "metadata": {},
   "source": [
    "__Dataset #4 (Prod)__ with columns [\"comp_id\", \"comp_logo_path\", \"comp_name\", \"comp_origin_country\", \"id\" ]. <br>\n"
   ]
  },
  {
   "cell_type": "markdown",
   "id": "44357f66",
   "metadata": {},
   "source": [
    "3. __Load__ the datasets __into the database__ (each dataset should be a separate table in the database). __Name__ the tables \"Movies\", \"Votes\", \"Genres\", \"Prod\"."
   ]
  },
  {
   "cell_type": "code",
   "execution_count": null,
   "id": "0dda002c",
   "metadata": {},
   "outputs": [],
   "source": [
    "with open(\"some_movies.json\") as f:\n",
    "    data=json.load(f)"
   ]
  },
  {
   "cell_type": "code",
   "execution_count": null,
   "id": "36f145c5",
   "metadata": {},
   "outputs": [],
   "source": [
    "data"
   ]
  },
  {
   "cell_type": "code",
   "execution_count": null,
   "id": "c97d1691",
   "metadata": {},
   "outputs": [],
   "source": [
    "df=pd.json_normalize(data,sep=\"_\") #flatten the dataframe"
   ]
  },
  {
   "cell_type": "code",
   "execution_count": null,
   "id": "042567bd",
   "metadata": {},
   "outputs": [],
   "source": [
    "df"
   ]
  },
  {
   "cell_type": "code",
   "execution_count": null,
   "id": "ae685455",
   "metadata": {},
   "outputs": [],
   "source": [
    "df_movies=df[[\"id\", \"title\", \"revenue\", \"budget\", \"belongs_to_collection_name\", \"release_date\"]].copy()\n",
    "df_movies"
   ]
  },
  {
   "cell_type": "code",
   "execution_count": null,
   "id": "d99397ec",
   "metadata": {},
   "outputs": [],
   "source": [
    "df_movies.info()"
   ]
  },
  {
   "cell_type": "code",
   "execution_count": null,
   "id": "28b2731c",
   "metadata": {},
   "outputs": [],
   "source": [
    "df_movies.release_date=pd.to_datetime(df.release_date)"
   ]
  },
  {
   "cell_type": "code",
   "execution_count": null,
   "id": "f5c23f7d",
   "metadata": {},
   "outputs": [],
   "source": [
    "df_movies.budget=df.budget/1000000\n",
    "df_movies.revenue=df.revenue/1000000"
   ]
  },
  {
   "cell_type": "code",
   "execution_count": null,
   "id": "8c6cc5f6",
   "metadata": {},
   "outputs": [],
   "source": [
    "df_movies"
   ]
  },
  {
   "cell_type": "code",
   "execution_count": null,
   "id": "03f50349",
   "metadata": {},
   "outputs": [],
   "source": [
    "df_votes=df[ [\"id\", \"vote_count\", \"vote_average\"]].copy()"
   ]
  },
  {
   "cell_type": "code",
   "execution_count": null,
   "id": "a085d91f",
   "metadata": {},
   "outputs": [],
   "source": [
    "df_votes"
   ]
  },
  {
   "cell_type": "code",
   "execution_count": null,
   "id": "d40f8c4c",
   "metadata": {},
   "outputs": [],
   "source": [
    "df_genres=pd.json_normalize(data=data,record_path=\"genres\",meta=\"id\",record_prefix=\"genre_\")\n",
    "df_genres"
   ]
  },
  {
   "cell_type": "code",
   "execution_count": null,
   "id": "7d3674ed",
   "metadata": {},
   "outputs": [],
   "source": [
    "df_prod=pd.json_normalize(data=data,record_path=\"production_companies\",meta=\"id\",record_prefix=\"comp_\")\n",
    "df_prod"
   ]
  },
  {
   "cell_type": "code",
   "execution_count": null,
   "id": "d987c785",
   "metadata": {},
   "outputs": [],
   "source": [
    "con=sq3.connect(\"movies.db\")"
   ]
  },
  {
   "cell_type": "code",
   "execution_count": null,
   "id": "e4ec472f",
   "metadata": {},
   "outputs": [],
   "source": [
    "con"
   ]
  },
  {
   "cell_type": "code",
   "execution_count": null,
   "id": "1e36c2fe",
   "metadata": {},
   "outputs": [],
   "source": [
    "#load all four dataframes into database\n",
    "df_movies.to_sql(\"db_movies\",con,index=False)"
   ]
  },
  {
   "cell_type": "code",
   "execution_count": null,
   "id": "ca4ef538",
   "metadata": {},
   "outputs": [],
   "source": [
    "df_votes.to_sql(\"db_votes\",con,index=False)"
   ]
  },
  {
   "cell_type": "code",
   "execution_count": null,
   "id": "23368766",
   "metadata": {},
   "outputs": [],
   "source": [
    "df_genres.to_sql(\"db_genres\",con,index=False)"
   ]
  },
  {
   "cell_type": "code",
   "execution_count": null,
   "id": "f2dfbb36",
   "metadata": {},
   "outputs": [],
   "source": [
    "df_prod.to_sql(\"db_prod\",con,index=False)"
   ]
  },
  {
   "cell_type": "code",
   "execution_count": null,
   "id": "49a69f90",
   "metadata": {},
   "outputs": [],
   "source": [
    "con.execute(\"select * from sqlite_master\").fetchall()"
   ]
  },
  {
   "cell_type": "code",
   "execution_count": null,
   "id": "64357dc5",
   "metadata": {},
   "outputs": [],
   "source": [
    "con.execute(\"select name from sqlite_master where type='table' order by name\").fetchall()"
   ]
  },
  {
   "cell_type": "code",
   "execution_count": null,
   "id": "789ea75b",
   "metadata": {},
   "outputs": [],
   "source": [
    "con.close()"
   ]
  },
  {
   "cell_type": "markdown",
   "id": "7ceef3bb",
   "metadata": {},
   "source": [
    "## Loading Data from SQLite Databases into DataFrames"
   ]
  },
  {
   "cell_type": "markdown",
   "id": "78c9ccad",
   "metadata": {},
   "source": [
    "4. __Load__ the full tables \"Movies\", \"Votes\", \"Genres\", \"Prod\" from \"movies.db\" into Pandas (four DataFrames). __Set__ \"id\" as Index. "
   ]
  },
  {
   "cell_type": "code",
   "execution_count": null,
   "id": "111876bc",
   "metadata": {},
   "outputs": [],
   "source": [
    "con=sq3.connect(\"movies.db\")"
   ]
  },
  {
   "cell_type": "code",
   "execution_count": null,
   "id": "4268f730",
   "metadata": {},
   "outputs": [],
   "source": [
    "con.execute(\"select * from sqlite_master\").fetchall()"
   ]
  },
  {
   "cell_type": "code",
   "execution_count": null,
   "id": "d248d66e",
   "metadata": {},
   "outputs": [],
   "source": [
    "pd.read_sql(\"select * from db_movies\",con)"
   ]
  },
  {
   "cell_type": "code",
   "execution_count": null,
   "id": "c31d874d",
   "metadata": {},
   "outputs": [],
   "source": [
    "pd.read_sql(\"select * from db_movies\",con).info()"
   ]
  },
  {
   "cell_type": "code",
   "execution_count": null,
   "id": "531a8099",
   "metadata": {},
   "outputs": [],
   "source": [
    "df_movies2=pd.read_sql(\"select * from db_movies\",con,index_col=\"id\",parse_dates=\"release_dates\")"
   ]
  },
  {
   "cell_type": "code",
   "execution_count": null,
   "id": "a11dbef3",
   "metadata": {},
   "outputs": [],
   "source": [
    "df_movies2"
   ]
  },
  {
   "cell_type": "code",
   "execution_count": null,
   "id": "1ee14846",
   "metadata": {},
   "outputs": [],
   "source": [
    "df_genres2=pd.read_sql(\"select * from db_genres\",con,index_col=\"id\")"
   ]
  },
  {
   "cell_type": "code",
   "execution_count": null,
   "id": "08b2bbb1",
   "metadata": {},
   "outputs": [],
   "source": [
    "df_genres2"
   ]
  },
  {
   "cell_type": "code",
   "execution_count": null,
   "id": "5196a314",
   "metadata": {},
   "outputs": [],
   "source": [
    "con.close()"
   ]
  },
  {
   "cell_type": "markdown",
   "id": "35fd00de",
   "metadata": {},
   "source": [
    "##  Some Simple SQL Queries"
   ]
  },
  {
   "cell_type": "markdown",
   "id": "9d36d0bd",
   "metadata": {},
   "source": [
    "5. __Perform__ the following simple __SQL Queries__ and __store__ the results in DataFrames:"
   ]
  },
  {
   "cell_type": "markdown",
   "id": "83297e0a",
   "metadata": {},
   "source": [
    "__Load the full \"Movies\" Table__."
   ]
  },
  {
   "cell_type": "markdown",
   "id": "cdda70d6",
   "metadata": {},
   "source": [
    "__Load the columns \"id\", \"revenue\" and \"release_date\" from \"Movies\".__ "
   ]
  },
  {
   "cell_type": "markdown",
   "id": "3c54c8e4",
   "metadata": {},
   "source": [
    "__Get the Total Revenue (sum) over all movies from \"Movies\".__"
   ]
  },
  {
   "cell_type": "markdown",
   "id": "5615b71a",
   "metadata": {},
   "source": [
    "__Count the number of Movies in \"Movies\".__"
   ]
  },
  {
   "cell_type": "markdown",
   "id": "78847b5b",
   "metadata": {},
   "source": [
    "__Count the number of Movies that do belong to a collection.__"
   ]
  },
  {
   "cell_type": "markdown",
   "id": "eb37547a",
   "metadata": {},
   "source": [
    "__Get the average budget from \"Movies\"__."
   ]
  },
  {
   "cell_type": "code",
   "execution_count": null,
   "id": "3a987fd9",
   "metadata": {},
   "outputs": [],
   "source": [
    "con=sq3.connect(\"movies.db\")"
   ]
  },
  {
   "cell_type": "code",
   "execution_count": null,
   "id": "bcad62e1",
   "metadata": {},
   "outputs": [],
   "source": [
    "pd.read_sql(\"SELECT * FROM db_movies\",con)"
   ]
  },
  {
   "cell_type": "code",
   "execution_count": null,
   "id": "f4859fd4",
   "metadata": {},
   "outputs": [],
   "source": [
    "pd.read_sql(\"SELECT * \\\n",
    "           FROM db_movies\",con)\n",
    "# \\ allows to put query in new line"
   ]
  },
  {
   "cell_type": "code",
   "execution_count": null,
   "id": "64e4b404",
   "metadata": {},
   "outputs": [],
   "source": [
    "pd.read_sql(\"SELECT id, revenue, release_date FROM db_movies\",con)"
   ]
  },
  {
   "cell_type": "code",
   "execution_count": null,
   "id": "abbe656d",
   "metadata": {},
   "outputs": [],
   "source": [
    "con.execute(\"SELECT sum(revenue) FROM db_movies\").fetchall()[0][0]"
   ]
  },
  {
   "cell_type": "code",
   "execution_count": null,
   "id": "8bac1e8d",
   "metadata": {},
   "outputs": [],
   "source": [
    "pd.read_sql(\"SELECT sum(revenue) FROM db_movies\",con)"
   ]
  },
  {
   "cell_type": "code",
   "execution_count": null,
   "id": "b698c31c",
   "metadata": {},
   "outputs": [],
   "source": [
    "#no of non missing values in the title column\n",
    "pd.read_sql(\"SELECT count(title) FROM db_movies\",con)"
   ]
  },
  {
   "cell_type": "code",
   "execution_count": null,
   "id": "8ea55e09",
   "metadata": {},
   "outputs": [],
   "source": [
    "#movies belonging to collection\n",
    "pd.read_sql(\"SELECT count(belongs_to_collection_name) FROM db_movies\",con)"
   ]
  },
  {
   "cell_type": "code",
   "execution_count": null,
   "id": "565ab7e0",
   "metadata": {},
   "outputs": [],
   "source": [
    "pd.read_sql(\"SELECT count(*) FROM db_movies\",con)"
   ]
  },
  {
   "cell_type": "code",
   "execution_count": null,
   "id": "9d4da2c2",
   "metadata": {},
   "outputs": [],
   "source": [
    "pd.read_sql(\"SELECT avg(budget) FROM db_movies\",con)"
   ]
  },
  {
   "cell_type": "code",
   "execution_count": null,
   "id": "1ee7dee2",
   "metadata": {},
   "outputs": [],
   "source": [
    "con.close()"
   ]
  },
  {
   "cell_type": "markdown",
   "id": "b6b19ae6",
   "metadata": {},
   "source": [
    "## Some more SQL Queries"
   ]
  },
  {
   "cell_type": "markdown",
   "id": "39dcb0ae",
   "metadata": {},
   "source": [
    "6. __Perform__ the following advanced __SQL Queries__ and __store__ the results in DataFrames:"
   ]
  },
  {
   "cell_type": "markdown",
   "id": "3a55e50d",
   "metadata": {},
   "source": [
    "__Load all columns for the movie with movie id 597__."
   ]
  },
  {
   "cell_type": "markdown",
   "id": "dd061ec9",
   "metadata": {},
   "source": [
    "__Load all columns for all movies with a revenue greater than 2000 (MUSD).__"
   ]
  },
  {
   "cell_type": "markdown",
   "id": "173b7b64",
   "metadata": {},
   "source": [
    "__Load all columns for all movies with a revenue greater than 1500 (MUSD) and a budget below 200 (MUSD).__"
   ]
  },
  {
   "cell_type": "markdown",
   "id": "43bc5e27",
   "metadata": {},
   "source": [
    "__Get the minimum budget from those movies with a revenue greater than 1250 (MUSD).__"
   ]
  },
  {
   "cell_type": "markdown",
   "id": "6b9e24da",
   "metadata": {},
   "source": [
    "__Get all unique collection Names from \"Movies\".__"
   ]
  },
  {
   "cell_type": "markdown",
   "id": "c67b469b",
   "metadata": {},
   "source": [
    "__Load all movies (all columns) and sort by budget from high to low.__"
   ]
  },
  {
   "cell_type": "markdown",
   "id": "05539820",
   "metadata": {},
   "source": [
    "__Load all movies (all columns) that do not belong to a collection.__"
   ]
  },
  {
   "cell_type": "markdown",
   "id": "3512a383",
   "metadata": {},
   "source": [
    "__Load all movies (all columns) that belong to a collection.__"
   ]
  },
  {
   "cell_type": "markdown",
   "id": "1ec4ab61",
   "metadata": {},
   "source": [
    "__Load all movies (all columns) where \"Avengers...\" is in the title__."
   ]
  },
  {
   "cell_type": "code",
   "execution_count": null,
   "id": "556509d2",
   "metadata": {},
   "outputs": [],
   "source": [
    "con=sq3.connect(\"movies.db\")"
   ]
  },
  {
   "cell_type": "code",
   "execution_count": null,
   "id": "8b81fd2d",
   "metadata": {},
   "outputs": [],
   "source": [
    "pd.read_sql(\"SELECT * FROM db_movies WHERE id=597\",con)"
   ]
  },
  {
   "cell_type": "code",
   "execution_count": null,
   "id": "04a299ed",
   "metadata": {},
   "outputs": [],
   "source": [
    "pd.read_sql(\"SELECT * FROM db_movies WHERE revenue>2000\",con)"
   ]
  },
  {
   "cell_type": "code",
   "execution_count": null,
   "id": "7454f4fb",
   "metadata": {},
   "outputs": [],
   "source": [
    "pd.read_sql(\"SELECT * FROM db_movies WHERE revenue>1500 AND budget<200\",con)"
   ]
  },
  {
   "cell_type": "code",
   "execution_count": null,
   "id": "edc9eca7",
   "metadata": {},
   "outputs": [],
   "source": [
    "pd.read_sql(\"SELECT min(budget) FROM db_movies WHERE revenue>1250\",con)"
   ]
  },
  {
   "cell_type": "code",
   "execution_count": null,
   "id": "cf949c7c",
   "metadata": {},
   "outputs": [],
   "source": [
    "pd.read_sql(\"SELECT DISTINCT title FROM db_movies\",con)\n",
    "#get unique titles"
   ]
  },
  {
   "cell_type": "code",
   "execution_count": null,
   "id": "ce9f5211",
   "metadata": {},
   "outputs": [],
   "source": [
    "pd.read_sql(\"SELECT DISTINCT belongs_to_collection_name FROM db_movies\",con)"
   ]
  },
  {
   "cell_type": "code",
   "execution_count": null,
   "id": "e9d384e1",
   "metadata": {},
   "outputs": [],
   "source": [
    "pd.read_sql(\"SELECT * FROM db_movies order by budget desc\",con)"
   ]
  },
  {
   "cell_type": "code",
   "execution_count": null,
   "id": "0390dc58",
   "metadata": {},
   "outputs": [],
   "source": [
    "pd.read_sql(\"SELECT * FROM db_movies WHERE belongs_to_collection_name IS NULL\",con)"
   ]
  },
  {
   "cell_type": "code",
   "execution_count": null,
   "id": "6622cb39",
   "metadata": {},
   "outputs": [],
   "source": [
    "pd.read_sql(\"SELECT * FROM db_movies WHERE belongs_to_collection_name IS NOT NULL\",con)"
   ]
  },
  {
   "cell_type": "code",
   "execution_count": null,
   "id": "17c76221",
   "metadata": {},
   "outputs": [],
   "source": [
    "pd.read_sql(\"SELECT * FROM db_movies WHERE title LIKE 'Avengers%'\",con)\n",
    "#search movies that has following pattern in the title"
   ]
  },
  {
   "cell_type": "code",
   "execution_count": null,
   "id": "bfabb40b",
   "metadata": {},
   "outputs": [],
   "source": [
    "con.close()"
   ]
  },
  {
   "cell_type": "markdown",
   "id": "b83d4a9b",
   "metadata": {},
   "source": [
    "## Join Queries"
   ]
  },
  {
   "cell_type": "markdown",
   "id": "947abbe9",
   "metadata": {},
   "source": [
    "7. __Perform__ the following __SQL Join Queries__ and __store__ the results in DataFrames:"
   ]
  },
  {
   "cell_type": "markdown",
   "id": "f3366005",
   "metadata": {},
   "source": [
    "__Join \"Movies\" and \"Votes\"__ (all columns)."
   ]
  },
  {
   "cell_type": "markdown",
   "id": "702af8c8",
   "metadata": {},
   "source": [
    "__Join \"Movies\" and \"Votes\" (only the columns \"id\", \"title\", \"vote_average\").__"
   ]
  },
  {
   "cell_type": "markdown",
   "id": "46c7feff",
   "metadata": {},
   "source": [
    "__Join \"Movies\" and \"Votes\" (only the columns \"id\", \"title\", \"vote_average\") and return only those movies with vote_average > 8.__"
   ]
  },
  {
   "cell_type": "markdown",
   "id": "1bae5d43",
   "metadata": {},
   "source": [
    "__Join \"Movies\" and \"Votes\" (only the columns \"id\", \"title\", \"vote_average\") and return only those movies with vote_average > 8 and in ascending budget order__."
   ]
  },
  {
   "cell_type": "code",
   "execution_count": null,
   "id": "de9276f8",
   "metadata": {},
   "outputs": [],
   "source": [
    "con=sq3.connect(\"movies.db\")"
   ]
  },
  {
   "cell_type": "code",
   "execution_count": null,
   "id": "4c8f8586",
   "metadata": {},
   "outputs": [],
   "source": [
    "pd.read_sql(\"SELECT * FROM db_movies\",con)"
   ]
  },
  {
   "cell_type": "code",
   "execution_count": null,
   "id": "cd5a31b8",
   "metadata": {},
   "outputs": [],
   "source": [
    "pd.read_sql(\"SELECT * FROM db_votes\",con)"
   ]
  },
  {
   "cell_type": "code",
   "execution_count": null,
   "id": "ea005907",
   "metadata": {},
   "outputs": [],
   "source": [
    "pd.read_sql(\"SELECT * FROM db_movies JOIN db_votes ON db_movies.id=db_votes.id\",con)"
   ]
  },
  {
   "cell_type": "code",
   "execution_count": null,
   "id": "e89a80b3",
   "metadata": {},
   "outputs": [],
   "source": [
    "pd.read_sql(\"SELECT db_movies.id,db_movies.title,db_votes.vote_average \\\n",
    "            FROM db_movies JOIN db_votes \\\n",
    "            ON db_movies.id=db_votes.id\",con,index_col=\"id\")\n",
    "\n",
    "# \\ allows to take the query to the next line "
   ]
  },
  {
   "cell_type": "code",
   "execution_count": null,
   "id": "c281e8c6",
   "metadata": {},
   "outputs": [],
   "source": [
    "pd.read_sql(\"SELECT db_movies.id,db_movies.title,db_votes.vote_average \\\n",
    "            FROM db_movies JOIN db_votes \\\n",
    "            ON db_movies.id=db_votes.id \\\n",
    "            WHERE db_votes.vote_average>8\",con,index_col=\"id\")"
   ]
  },
  {
   "cell_type": "code",
   "execution_count": null,
   "id": "e9b1e0e6",
   "metadata": {},
   "outputs": [],
   "source": [
    "pd.read_sql(\"SELECT db_movies.id,db_movies.title,db_movies.budget,db_votes.vote_average \\\n",
    "            FROM db_movies JOIN db_votes \\\n",
    "            ON db_movies.id=db_votes.id \\\n",
    "            WHERE db_votes.vote_average>8 \\\n",
    "            ORDER BY db_movies.budget ASC\",con,index_col=\"id\")"
   ]
  },
  {
   "cell_type": "code",
   "execution_count": null,
   "id": "7eca55e3",
   "metadata": {},
   "outputs": [],
   "source": [
    "con.close()"
   ]
  },
  {
   "cell_type": "markdown",
   "id": "2ff8ad5f",
   "metadata": {},
   "source": [
    "## Final Case Study"
   ]
  },
  {
   "cell_type": "markdown",
   "id": "11a3d708",
   "metadata": {},
   "source": [
    "8. __Perform__ the following advanced __SQL Queries__ and __store__ the results in DataFrames:"
   ]
  },
  {
   "cell_type": "markdown",
   "id": "354d5eff",
   "metadata": {},
   "source": [
    "__Get the Total Revenue (sum) for each Production Company.__"
   ]
  },
  {
   "cell_type": "markdown",
   "id": "601d4b56",
   "metadata": {},
   "source": [
    "__Get all Production Companies for the movie \"Titanic\".__"
   ]
  },
  {
   "cell_type": "markdown",
   "id": "d2cf765c",
   "metadata": {},
   "source": [
    "__Get the Total Revenue (sum) for each Genre.__"
   ]
  },
  {
   "cell_type": "markdown",
   "id": "985659f0",
   "metadata": {},
   "source": [
    "__Get all Genres for the movie \"Frozen II\".__"
   ]
  },
  {
   "cell_type": "code",
   "execution_count": null,
   "id": "4250dbca",
   "metadata": {},
   "outputs": [],
   "source": [
    "con=sq3.connect(\"movies.db\")"
   ]
  },
  {
   "cell_type": "code",
   "execution_count": null,
   "id": "130c8c40",
   "metadata": {},
   "outputs": [],
   "source": [
    "pd.read_sql(\"SELECT * FROM db_prod\",con)"
   ]
  },
  {
   "cell_type": "code",
   "execution_count": null,
   "id": "9b7efc4f",
   "metadata": {},
   "outputs": [],
   "source": [
    "df2=pd.read_sql(\"SELECT db_prod.id,db_prod.comp_name,db_movies.revenue,db_movies.title \\\n",
    "              FROM db_prod LEFT JOIN db_movies \\\n",
    "              ON db_prod.id=db_movies.id\",con)\n",
    "df2\n",
    "#LEFT table is db_prod RIGHT TABLE is db_movies"
   ]
  },
  {
   "cell_type": "code",
   "execution_count": null,
   "id": "535bd609",
   "metadata": {},
   "outputs": [],
   "source": [
    "pd.read_sql(\"SELECT db_prod.id,db_prod.comp_name,db_movies.revenue,db_movies.title \\\n",
    "              FROM db_prod INNER JOIN db_movies \\\n",
    "              ON db_prod.id=db_movies.id\",con)\n",
    "#INNER JOIN and LEFT JOIN gives te same results"
   ]
  },
  {
   "cell_type": "code",
   "execution_count": null,
   "id": "7918d51a",
   "metadata": {},
   "outputs": [],
   "source": [
    "pd.read_sql(\"SELECT db_prod.id,db_prod.comp_name,db_movies.revenue,db_movies.title \\\n",
    "              FROM db_prod JOIN db_movies \\\n",
    "              ON db_prod.id=db_movies.id\",con)"
   ]
  },
  {
   "cell_type": "code",
   "execution_count": null,
   "id": "67f0dde8",
   "metadata": {},
   "outputs": [],
   "source": [
    "#Get the Total Revenue (sum) for each Production Company.\n",
    "df2.groupby(\"comp_name\").revenue.sum().sort_values(ascending=False)"
   ]
  },
  {
   "cell_type": "code",
   "execution_count": null,
   "id": "3f89d2bf",
   "metadata": {},
   "outputs": [],
   "source": [
    "#Get all Production Companies for the movie \"Titanic\"\n",
    "pd.read_sql(\"SELECT db_prod.comp_name,db_movies.title \\\n",
    "            FROM db_prod LEFT JOIN db_movies \\\n",
    "            ON db_prod.id=db_movies.id where db_movies.title='Titanic'\",con)"
   ]
  },
  {
   "cell_type": "code",
   "execution_count": null,
   "id": "999419bc",
   "metadata": {},
   "outputs": [],
   "source": [
    "#Get the Total Revenue (sum) for each Genre\n",
    "df3=pd.read_sql(\"SELECT db_genres.id,db_genres.genre_name,db_movies.title,db_movies.revenue \\\n",
    "                FROM db_genres LEFT JOIN db_movies \\\n",
    "                ON db_genres.id=db_movies.id\",con)\n",
    "df3"
   ]
  },
  {
   "cell_type": "code",
   "execution_count": null,
   "id": "15b16be9",
   "metadata": {},
   "outputs": [],
   "source": [
    "df3.groupby('genre_name').revenue.sum().sort_values(ascending=False)"
   ]
  },
  {
   "cell_type": "code",
   "execution_count": null,
   "id": "34ffebdd",
   "metadata": {},
   "outputs": [],
   "source": [
    "#Get all Genres for the movie \"Frozen II\"\n",
    "pd.read_sql(\"select db_genres.genre_name,db_movies.title \\\n",
    "           FROM db_genres LEFT JOIN db_movies \\\n",
    "           ON db_genres.id=db_movies.id WHERE db_movies.title='Frozen II'\",con)"
   ]
  },
  {
   "cell_type": "code",
   "execution_count": null,
   "id": "d91b5efe",
   "metadata": {},
   "outputs": [],
   "source": [
    "con.close()"
   ]
  },
  {
   "cell_type": "code",
   "execution_count": null,
   "id": "2559f15e",
   "metadata": {},
   "outputs": [],
   "source": [
    "print(\"The End\")"
   ]
  }
 ],
 "metadata": {
  "kernelspec": {
   "display_name": "Python 3 (ipykernel)",
   "language": "python",
   "name": "python3"
  },
  "language_info": {
   "codemirror_mode": {
    "name": "ipython",
    "version": 3
   },
   "file_extension": ".py",
   "mimetype": "text/x-python",
   "name": "python",
   "nbconvert_exporter": "python",
   "pygments_lexer": "ipython3",
   "version": "3.9.12"
  }
 },
 "nbformat": 4,
 "nbformat_minor": 5
}
